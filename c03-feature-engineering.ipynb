{
 "cells": [
  {
   "cell_type": "markdown",
   "id": "a3c403d3",
   "metadata": {},
   "source": [
    "# PLANEJAMENTO E ENTEDIMENTO DO NEGÓCIO"
   ]
  },
  {
   "cell_type": "markdown",
   "id": "c49b0329",
   "metadata": {},
   "source": [
    "**A empresa International Bank**\n",
    "\n",
    "    Disclaimer: O contexto a seguir é completamente fictício, a empresa, o contexto, o CEO e as perguntas de negócio existem somente na minha imaginação.\n",
    "\n",
    "    O International Bank é um banco internacional que fornece produtos financeiros, como empréstimos, contas correntes, contas poupança, opções de investimentos, cartões de crédito e etc.\n",
    "\n",
    "    A cada quarter do ano, os líderes se reúnem para decidir os objetivos da empresa para os próximos 3 meses. Nessa última reunião, uma das metas decididas é a criação de uma estratégia de marketing para abordar os clientes que usam cartão de crédito.\n",
    "\n",
    "    A empresa possui um conjunto de dados sobre o comportamento de uso de aproximadamente 9000 usuários de cartão de crédito ativos, durante os últimos 6 meses e o arquivo está no nível de clientes e possui 18 variáveis comportamentais."
   ]
  },
  {
   "cell_type": "markdown",
   "id": "96ecbe00",
   "metadata": {},
   "source": [
    "**O desafio**\n",
    "\n",
    "    Você foi contratado como um cientista de dados consultor, para criar um produto de dados que cria uma segmentação de clientes que direcionará a estratégia de marketing e os resultados esperados do seu trabalho de consultoria, são os seguintes:\n",
    "\n",
    "    - Criar uma segmentação de clientes baseado em critérios claros de seleção.\n",
    "    - Tornar a segmentação de clientes acessível para o time de operações.\n",
    "    - Ensinar o time de operações sobre como usar a sua solução.\n",
    "    - Transferir o conhecimento para os Cientistas de Dados da International Bank.\n",
    "    - Recomendar 2-3 alavancas de negócio para cada segmento de clientes."
   ]
  },
  {
   "cell_type": "markdown",
   "id": "8c6b85e6",
   "metadata": {},
   "source": [
    "**Roteiro**\n",
    "\n",
    "    1 - Explore os Dados usando ferramentas e testes Estatísticos com o objetivo de encontrar inconsistências dos dados e tratar possíveis dados faltantes.\n",
    "    2 - Levante Hipóteses sobre as características de um cliente Insider.\n",
    "    3 - Prepare os dados para ensinar os algoritmos de Machine Learning.\n",
    "    4 - Escreva vários algoritmos de Agrupamento.\n",
    "    5 - Contabilize a performance do modelo de Machine Learning treinado e valide a segmentação definida.\n",
    "    6 - Monte um sistema de fornecimento da segmentação na Cloud da AWS e use uma ferramenta de visualização para acessar os dados.\n",
    "    7 - Crie um README sobre como interpretar e usar a sua solução.\n",
    "    8 - Escreva um Relatório com as recomendações das alavancas para cada segmento."
   ]
  },
  {
   "cell_type": "markdown",
   "id": "6300e38f",
   "metadata": {},
   "source": [
    "**RFM Model**\n",
    "    \n",
    "    1. Recency\n",
    "        a. Tempo desde a última compra.\n",
    "        b. Responsividade\n",
    "        \n",
    "    2. Frequency\n",
    "        a. Tempo médio entre as transações\n",
    "        b. Engajamento\n",
    "        \n",
    "    3. Monetary\n",
    "        a. Total gasto, faturamento\n",
    "        b. \"High-value Purchases\""
   ]
  },
  {
   "cell_type": "markdown",
   "id": "ca58534b",
   "metadata": {},
   "source": [
    "## IOT"
   ]
  },
  {
   "cell_type": "markdown",
   "id": "28081f2a",
   "metadata": {},
   "source": [
    "### Input"
   ]
  },
  {
   "cell_type": "markdown",
   "id": "b8bcbf46",
   "metadata": {},
   "source": [
    "### Output"
   ]
  },
  {
   "cell_type": "markdown",
   "id": "355adca6",
   "metadata": {},
   "source": [
    "### Tasks"
   ]
  },
  {
   "cell_type": "markdown",
   "id": "697d7cdc",
   "metadata": {},
   "source": [
    "# IMPORTS"
   ]
  },
  {
   "cell_type": "code",
   "execution_count": 1,
   "id": "809cee67",
   "metadata": {
    "ExecuteTime": {
     "end_time": "2021-12-13T22:43:26.758162Z",
     "start_time": "2021-12-13T22:43:26.065228Z"
    }
   },
   "outputs": [],
   "source": [
    "import inflection\n",
    "\n",
    "import numpy as np\n",
    "import pandas as pd\n",
    "import seaborn as sns\n",
    "\n",
    "from matplotlib import pyplot as plt\n",
    "from IPython.core.display  import HTML\n",
    "\n",
    "from sklearn import cluster as c\n",
    "from sklearn import metrics as m\n",
    "\n",
    "pd.set_option('display.float_format', lambda x: '%.2f' % x)"
   ]
  },
  {
   "cell_type": "markdown",
   "id": "e35e1b5c",
   "metadata": {},
   "source": [
    "## Helper Functions"
   ]
  },
  {
   "cell_type": "code",
   "execution_count": 2,
   "id": "ce4fce2b",
   "metadata": {
    "ExecuteTime": {
     "end_time": "2021-12-13T22:43:26.769635Z",
     "start_time": "2021-12-13T22:43:26.759294Z"
    }
   },
   "outputs": [
    {
     "name": "stdout",
     "output_type": "stream",
     "text": [
      "Populating the interactive namespace from numpy and matplotlib\n"
     ]
    },
    {
     "data": {
      "text/html": [
       "<style>.container { width:100% !important; }</style>"
      ],
      "text/plain": [
       "<IPython.core.display.HTML object>"
      ]
     },
     "metadata": {},
     "output_type": "display_data"
    }
   ],
   "source": [
    "def jupyter_settings():\n",
    "    %matplotlib inline\n",
    "    %pylab inline\n",
    "    plt.style.use( 'bmh' )\n",
    "    plt.rcParams['figure.figsize'] = [25, 12]\n",
    "    plt.rcParams['font.size'] = 24\n",
    "    display( HTML( '<style>.container { width:100% !important; }</style>') )\n",
    "    pd.options.display.max_columns = None\n",
    "    pd.options.display.max_rows = None\n",
    "    pd.set_option( 'display.expand_frame_repr', False )\n",
    "    sns.set()\n",
    "    \n",
    "jupyter_settings()"
   ]
  },
  {
   "cell_type": "markdown",
   "id": "2dedd949",
   "metadata": {},
   "source": [
    "# LOADING DATA "
   ]
  },
  {
   "cell_type": "code",
   "execution_count": 3,
   "id": "fb426b45",
   "metadata": {
    "ExecuteTime": {
     "end_time": "2021-12-13T22:43:26.870543Z",
     "start_time": "2021-12-13T22:43:26.843529Z"
    }
   },
   "outputs": [],
   "source": [
    "data = pd.read_csv('datasets/bankmarketing.csv')"
   ]
  },
  {
   "cell_type": "markdown",
   "id": "39edbcb9",
   "metadata": {},
   "source": [
    "# DATA DESCRIPTION"
   ]
  },
  {
   "cell_type": "markdown",
   "id": "0d81d099",
   "metadata": {},
   "source": [
    "## Rename Columns"
   ]
  },
  {
   "cell_type": "code",
   "execution_count": 4,
   "id": "d7a714d4",
   "metadata": {
    "ExecuteTime": {
     "end_time": "2021-12-13T22:43:27.536332Z",
     "start_time": "2021-12-13T22:43:27.532259Z"
    }
   },
   "outputs": [],
   "source": [
    "data.columns = data.columns.str.lower()"
   ]
  },
  {
   "cell_type": "markdown",
   "id": "1f0675f8",
   "metadata": {},
   "source": [
    "## Head"
   ]
  },
  {
   "cell_type": "code",
   "execution_count": 5,
   "id": "2785413b",
   "metadata": {
    "ExecuteTime": {
     "end_time": "2021-12-13T22:43:27.967650Z",
     "start_time": "2021-12-13T22:43:27.944345Z"
    }
   },
   "outputs": [
    {
     "data": {
      "text/html": [
       "<div>\n",
       "<style scoped>\n",
       "    .dataframe tbody tr th:only-of-type {\n",
       "        vertical-align: middle;\n",
       "    }\n",
       "\n",
       "    .dataframe tbody tr th {\n",
       "        vertical-align: top;\n",
       "    }\n",
       "\n",
       "    .dataframe thead th {\n",
       "        text-align: right;\n",
       "    }\n",
       "</style>\n",
       "<table border=\"1\" class=\"dataframe\">\n",
       "  <thead>\n",
       "    <tr style=\"text-align: right;\">\n",
       "      <th></th>\n",
       "      <th>cust_id</th>\n",
       "      <th>balance</th>\n",
       "      <th>balance_frequency</th>\n",
       "      <th>purchases</th>\n",
       "      <th>oneoff_purchases</th>\n",
       "      <th>installments_purchases</th>\n",
       "      <th>cash_advance</th>\n",
       "      <th>purchases_frequency</th>\n",
       "      <th>oneoff_purchases_frequency</th>\n",
       "      <th>purchases_installments_frequency</th>\n",
       "      <th>cash_advance_frequency</th>\n",
       "      <th>cash_advance_trx</th>\n",
       "      <th>purchases_trx</th>\n",
       "      <th>credit_limit</th>\n",
       "      <th>payments</th>\n",
       "      <th>minimum_payments</th>\n",
       "      <th>prc_full_payment</th>\n",
       "      <th>tenure</th>\n",
       "    </tr>\n",
       "  </thead>\n",
       "  <tbody>\n",
       "    <tr>\n",
       "      <th>0</th>\n",
       "      <td>C10001</td>\n",
       "      <td>40.90</td>\n",
       "      <td>0.82</td>\n",
       "      <td>95.40</td>\n",
       "      <td>0.00</td>\n",
       "      <td>95.40</td>\n",
       "      <td>0.00</td>\n",
       "      <td>0.17</td>\n",
       "      <td>0.00</td>\n",
       "      <td>0.08</td>\n",
       "      <td>0.00</td>\n",
       "      <td>0</td>\n",
       "      <td>2</td>\n",
       "      <td>1000.00</td>\n",
       "      <td>201.80</td>\n",
       "      <td>139.51</td>\n",
       "      <td>0.00</td>\n",
       "      <td>12</td>\n",
       "    </tr>\n",
       "    <tr>\n",
       "      <th>1</th>\n",
       "      <td>C10002</td>\n",
       "      <td>3202.47</td>\n",
       "      <td>0.91</td>\n",
       "      <td>0.00</td>\n",
       "      <td>0.00</td>\n",
       "      <td>0.00</td>\n",
       "      <td>6442.95</td>\n",
       "      <td>0.00</td>\n",
       "      <td>0.00</td>\n",
       "      <td>0.00</td>\n",
       "      <td>0.25</td>\n",
       "      <td>4</td>\n",
       "      <td>0</td>\n",
       "      <td>7000.00</td>\n",
       "      <td>4103.03</td>\n",
       "      <td>1072.34</td>\n",
       "      <td>0.22</td>\n",
       "      <td>12</td>\n",
       "    </tr>\n",
       "    <tr>\n",
       "      <th>2</th>\n",
       "      <td>C10003</td>\n",
       "      <td>2495.15</td>\n",
       "      <td>1.00</td>\n",
       "      <td>773.17</td>\n",
       "      <td>773.17</td>\n",
       "      <td>0.00</td>\n",
       "      <td>0.00</td>\n",
       "      <td>1.00</td>\n",
       "      <td>1.00</td>\n",
       "      <td>0.00</td>\n",
       "      <td>0.00</td>\n",
       "      <td>0</td>\n",
       "      <td>12</td>\n",
       "      <td>7500.00</td>\n",
       "      <td>622.07</td>\n",
       "      <td>627.28</td>\n",
       "      <td>0.00</td>\n",
       "      <td>12</td>\n",
       "    </tr>\n",
       "    <tr>\n",
       "      <th>3</th>\n",
       "      <td>C10004</td>\n",
       "      <td>1666.67</td>\n",
       "      <td>0.64</td>\n",
       "      <td>1499.00</td>\n",
       "      <td>1499.00</td>\n",
       "      <td>0.00</td>\n",
       "      <td>205.79</td>\n",
       "      <td>0.08</td>\n",
       "      <td>0.08</td>\n",
       "      <td>0.00</td>\n",
       "      <td>0.08</td>\n",
       "      <td>1</td>\n",
       "      <td>1</td>\n",
       "      <td>7500.00</td>\n",
       "      <td>0.00</td>\n",
       "      <td>NaN</td>\n",
       "      <td>0.00</td>\n",
       "      <td>12</td>\n",
       "    </tr>\n",
       "    <tr>\n",
       "      <th>4</th>\n",
       "      <td>C10005</td>\n",
       "      <td>817.71</td>\n",
       "      <td>1.00</td>\n",
       "      <td>16.00</td>\n",
       "      <td>16.00</td>\n",
       "      <td>0.00</td>\n",
       "      <td>0.00</td>\n",
       "      <td>0.08</td>\n",
       "      <td>0.08</td>\n",
       "      <td>0.00</td>\n",
       "      <td>0.00</td>\n",
       "      <td>0</td>\n",
       "      <td>1</td>\n",
       "      <td>1200.00</td>\n",
       "      <td>678.33</td>\n",
       "      <td>244.79</td>\n",
       "      <td>0.00</td>\n",
       "      <td>12</td>\n",
       "    </tr>\n",
       "  </tbody>\n",
       "</table>\n",
       "</div>"
      ],
      "text/plain": [
       "  cust_id  balance  balance_frequency  purchases  oneoff_purchases  installments_purchases  cash_advance  purchases_frequency  oneoff_purchases_frequency  purchases_installments_frequency  cash_advance_frequency  cash_advance_trx  purchases_trx  credit_limit  payments  minimum_payments  prc_full_payment  tenure\n",
       "0  C10001    40.90               0.82      95.40              0.00                   95.40          0.00                 0.17                        0.00                              0.08                    0.00                 0              2       1000.00    201.80            139.51              0.00      12\n",
       "1  C10002  3202.47               0.91       0.00              0.00                    0.00       6442.95                 0.00                        0.00                              0.00                    0.25                 4              0       7000.00   4103.03           1072.34              0.22      12\n",
       "2  C10003  2495.15               1.00     773.17            773.17                    0.00          0.00                 1.00                        1.00                              0.00                    0.00                 0             12       7500.00    622.07            627.28              0.00      12\n",
       "3  C10004  1666.67               0.64    1499.00           1499.00                    0.00        205.79                 0.08                        0.08                              0.00                    0.08                 1              1       7500.00      0.00               NaN              0.00      12\n",
       "4  C10005   817.71               1.00      16.00             16.00                    0.00          0.00                 0.08                        0.08                              0.00                    0.00                 0              1       1200.00    678.33            244.79              0.00      12"
      ]
     },
     "execution_count": 5,
     "metadata": {},
     "output_type": "execute_result"
    }
   ],
   "source": [
    "data.head()"
   ]
  },
  {
   "cell_type": "markdown",
   "id": "e6ff6f54",
   "metadata": {},
   "source": [
    "## Columns"
   ]
  },
  {
   "cell_type": "code",
   "execution_count": 6,
   "id": "0953ba90",
   "metadata": {
    "ExecuteTime": {
     "end_time": "2021-12-13T22:43:28.332015Z",
     "start_time": "2021-12-13T22:43:28.318838Z"
    }
   },
   "outputs": [
    {
     "data": {
      "text/plain": [
       "Index(['cust_id', 'balance', 'balance_frequency', 'purchases',\n",
       "       'oneoff_purchases', 'installments_purchases', 'cash_advance',\n",
       "       'purchases_frequency', 'oneoff_purchases_frequency',\n",
       "       'purchases_installments_frequency', 'cash_advance_frequency',\n",
       "       'cash_advance_trx', 'purchases_trx', 'credit_limit', 'payments',\n",
       "       'minimum_payments', 'prc_full_payment', 'tenure'],\n",
       "      dtype='object')"
      ]
     },
     "execution_count": 6,
     "metadata": {},
     "output_type": "execute_result"
    }
   ],
   "source": [
    "data.columns"
   ]
  },
  {
   "cell_type": "markdown",
   "id": "88ae67d2",
   "metadata": {},
   "source": [
    "## Data Dimension"
   ]
  },
  {
   "cell_type": "code",
   "execution_count": 7,
   "id": "6048e9d3",
   "metadata": {
    "ExecuteTime": {
     "end_time": "2021-12-13T22:43:28.729319Z",
     "start_time": "2021-12-13T22:43:28.720033Z"
    }
   },
   "outputs": [
    {
     "name": "stdout",
     "output_type": "stream",
     "text": [
      "Essa base tem 8950 linhas e 18 colunas\n"
     ]
    }
   ],
   "source": [
    "print(f'Essa base tem {data.shape[0]} linhas e {data.shape[1]} colunas')"
   ]
  },
  {
   "cell_type": "markdown",
   "id": "f568dc22",
   "metadata": {},
   "source": [
    "## Dtypes"
   ]
  },
  {
   "cell_type": "code",
   "execution_count": 8,
   "id": "b49a54ab",
   "metadata": {
    "ExecuteTime": {
     "end_time": "2021-12-13T22:43:29.104303Z",
     "start_time": "2021-12-13T22:43:29.093855Z"
    }
   },
   "outputs": [
    {
     "data": {
      "text/plain": [
       "cust_id                              object\n",
       "balance                             float64\n",
       "balance_frequency                   float64\n",
       "purchases                           float64\n",
       "oneoff_purchases                    float64\n",
       "installments_purchases              float64\n",
       "cash_advance                        float64\n",
       "purchases_frequency                 float64\n",
       "oneoff_purchases_frequency          float64\n",
       "purchases_installments_frequency    float64\n",
       "cash_advance_frequency              float64\n",
       "cash_advance_trx                      int64\n",
       "purchases_trx                         int64\n",
       "credit_limit                        float64\n",
       "payments                            float64\n",
       "minimum_payments                    float64\n",
       "prc_full_payment                    float64\n",
       "tenure                                int64\n",
       "dtype: object"
      ]
     },
     "execution_count": 8,
     "metadata": {},
     "output_type": "execute_result"
    }
   ],
   "source": [
    "data.dtypes"
   ]
  },
  {
   "cell_type": "markdown",
   "id": "5ca1d35d",
   "metadata": {},
   "source": [
    "## Check NA"
   ]
  },
  {
   "cell_type": "code",
   "execution_count": 9,
   "id": "efc22ae6",
   "metadata": {
    "ExecuteTime": {
     "end_time": "2021-12-13T22:43:29.466282Z",
     "start_time": "2021-12-13T22:43:29.456820Z"
    }
   },
   "outputs": [
    {
     "data": {
      "text/plain": [
       "cust_id                               0\n",
       "balance                               0\n",
       "balance_frequency                     0\n",
       "purchases                             0\n",
       "oneoff_purchases                      0\n",
       "installments_purchases                0\n",
       "cash_advance                          0\n",
       "purchases_frequency                   0\n",
       "oneoff_purchases_frequency            0\n",
       "purchases_installments_frequency      0\n",
       "cash_advance_frequency                0\n",
       "cash_advance_trx                      0\n",
       "purchases_trx                         0\n",
       "credit_limit                          1\n",
       "payments                              0\n",
       "minimum_payments                    313\n",
       "prc_full_payment                      0\n",
       "tenure                                0\n",
       "dtype: int64"
      ]
     },
     "execution_count": 9,
     "metadata": {},
     "output_type": "execute_result"
    }
   ],
   "source": [
    "data.isna().sum()"
   ]
  },
  {
   "cell_type": "markdown",
   "id": "74a5e3b3",
   "metadata": {},
   "source": [
    "## Drop NA"
   ]
  },
  {
   "cell_type": "code",
   "execution_count": 10,
   "id": "40f7971e",
   "metadata": {
    "ExecuteTime": {
     "end_time": "2021-12-13T22:43:29.866582Z",
     "start_time": "2021-12-13T22:43:29.856591Z"
    }
   },
   "outputs": [],
   "source": [
    "data = data.dropna( subset=['minimum_payments', 'credit_limit'])"
   ]
  },
  {
   "cell_type": "markdown",
   "id": "fa907b8f",
   "metadata": {},
   "source": [
    "## Estatística Descritiva"
   ]
  },
  {
   "cell_type": "code",
   "execution_count": 11,
   "id": "c706d112",
   "metadata": {
    "ExecuteTime": {
     "end_time": "2021-12-13T22:43:30.321382Z",
     "start_time": "2021-12-13T22:43:30.253016Z"
    }
   },
   "outputs": [
    {
     "data": {
      "text/html": [
       "<div>\n",
       "<style scoped>\n",
       "    .dataframe tbody tr th:only-of-type {\n",
       "        vertical-align: middle;\n",
       "    }\n",
       "\n",
       "    .dataframe tbody tr th {\n",
       "        vertical-align: top;\n",
       "    }\n",
       "\n",
       "    .dataframe thead th {\n",
       "        text-align: right;\n",
       "    }\n",
       "</style>\n",
       "<table border=\"1\" class=\"dataframe\">\n",
       "  <thead>\n",
       "    <tr style=\"text-align: right;\">\n",
       "      <th></th>\n",
       "      <th>attributes</th>\n",
       "      <th>min</th>\n",
       "      <th>max</th>\n",
       "      <th>range</th>\n",
       "      <th>mean</th>\n",
       "      <th>median</th>\n",
       "      <th>std</th>\n",
       "      <th>skewness</th>\n",
       "      <th>kurtosis</th>\n",
       "    </tr>\n",
       "  </thead>\n",
       "  <tbody>\n",
       "    <tr>\n",
       "      <th>0</th>\n",
       "      <td>balance</td>\n",
       "      <td>0.00</td>\n",
       "      <td>19043.14</td>\n",
       "      <td>19043.14</td>\n",
       "      <td>1601.22</td>\n",
       "      <td>916.86</td>\n",
       "      <td>2095.45</td>\n",
       "      <td>2.37</td>\n",
       "      <td>7.55</td>\n",
       "    </tr>\n",
       "    <tr>\n",
       "      <th>1</th>\n",
       "      <td>balance_frequency</td>\n",
       "      <td>0.00</td>\n",
       "      <td>1.00</td>\n",
       "      <td>1.00</td>\n",
       "      <td>0.90</td>\n",
       "      <td>1.00</td>\n",
       "      <td>0.21</td>\n",
       "      <td>-2.08</td>\n",
       "      <td>3.37</td>\n",
       "    </tr>\n",
       "    <tr>\n",
       "      <th>2</th>\n",
       "      <td>purchases</td>\n",
       "      <td>0.00</td>\n",
       "      <td>49039.57</td>\n",
       "      <td>49039.57</td>\n",
       "      <td>1025.43</td>\n",
       "      <td>375.40</td>\n",
       "      <td>2166.98</td>\n",
       "      <td>8.06</td>\n",
       "      <td>108.68</td>\n",
       "    </tr>\n",
       "    <tr>\n",
       "      <th>3</th>\n",
       "      <td>oneoff_purchases</td>\n",
       "      <td>0.00</td>\n",
       "      <td>40761.25</td>\n",
       "      <td>40761.25</td>\n",
       "      <td>604.90</td>\n",
       "      <td>45.00</td>\n",
       "      <td>1684.21</td>\n",
       "      <td>9.94</td>\n",
       "      <td>160.12</td>\n",
       "    </tr>\n",
       "    <tr>\n",
       "      <th>4</th>\n",
       "      <td>installments_purchases</td>\n",
       "      <td>0.00</td>\n",
       "      <td>22500.00</td>\n",
       "      <td>22500.00</td>\n",
       "      <td>420.84</td>\n",
       "      <td>94.78</td>\n",
       "      <td>917.19</td>\n",
       "      <td>7.22</td>\n",
       "      <td>94.19</td>\n",
       "    </tr>\n",
       "    <tr>\n",
       "      <th>5</th>\n",
       "      <td>cash_advance</td>\n",
       "      <td>0.00</td>\n",
       "      <td>47137.21</td>\n",
       "      <td>47137.21</td>\n",
       "      <td>994.18</td>\n",
       "      <td>0.00</td>\n",
       "      <td>2121.34</td>\n",
       "      <td>5.14</td>\n",
       "      <td>52.14</td>\n",
       "    </tr>\n",
       "    <tr>\n",
       "      <th>6</th>\n",
       "      <td>purchases_frequency</td>\n",
       "      <td>0.00</td>\n",
       "      <td>1.00</td>\n",
       "      <td>1.00</td>\n",
       "      <td>0.50</td>\n",
       "      <td>0.50</td>\n",
       "      <td>0.40</td>\n",
       "      <td>0.03</td>\n",
       "      <td>-1.64</td>\n",
       "    </tr>\n",
       "    <tr>\n",
       "      <th>7</th>\n",
       "      <td>oneoff_purchases_frequency</td>\n",
       "      <td>0.00</td>\n",
       "      <td>1.00</td>\n",
       "      <td>1.00</td>\n",
       "      <td>0.21</td>\n",
       "      <td>0.08</td>\n",
       "      <td>0.30</td>\n",
       "      <td>1.50</td>\n",
       "      <td>1.06</td>\n",
       "    </tr>\n",
       "    <tr>\n",
       "      <th>8</th>\n",
       "      <td>purchases_installments_frequency</td>\n",
       "      <td>0.00</td>\n",
       "      <td>1.00</td>\n",
       "      <td>1.00</td>\n",
       "      <td>0.37</td>\n",
       "      <td>0.17</td>\n",
       "      <td>0.40</td>\n",
       "      <td>0.49</td>\n",
       "      <td>-1.42</td>\n",
       "    </tr>\n",
       "    <tr>\n",
       "      <th>9</th>\n",
       "      <td>cash_advance_frequency</td>\n",
       "      <td>0.00</td>\n",
       "      <td>1.50</td>\n",
       "      <td>1.50</td>\n",
       "      <td>0.14</td>\n",
       "      <td>0.00</td>\n",
       "      <td>0.20</td>\n",
       "      <td>1.80</td>\n",
       "      <td>3.18</td>\n",
       "    </tr>\n",
       "    <tr>\n",
       "      <th>10</th>\n",
       "      <td>cash_advance_trx</td>\n",
       "      <td>0.00</td>\n",
       "      <td>123.00</td>\n",
       "      <td>123.00</td>\n",
       "      <td>3.31</td>\n",
       "      <td>0.00</td>\n",
       "      <td>6.91</td>\n",
       "      <td>5.67</td>\n",
       "      <td>60.43</td>\n",
       "    </tr>\n",
       "    <tr>\n",
       "      <th>11</th>\n",
       "      <td>purchases_trx</td>\n",
       "      <td>0.00</td>\n",
       "      <td>358.00</td>\n",
       "      <td>358.00</td>\n",
       "      <td>15.03</td>\n",
       "      <td>7.00</td>\n",
       "      <td>25.18</td>\n",
       "      <td>4.58</td>\n",
       "      <td>33.95</td>\n",
       "    </tr>\n",
       "    <tr>\n",
       "      <th>12</th>\n",
       "      <td>credit_limit</td>\n",
       "      <td>50.00</td>\n",
       "      <td>30000.00</td>\n",
       "      <td>29950.00</td>\n",
       "      <td>4522.09</td>\n",
       "      <td>3000.00</td>\n",
       "      <td>3659.03</td>\n",
       "      <td>1.51</td>\n",
       "      <td>2.77</td>\n",
       "    </tr>\n",
       "    <tr>\n",
       "      <th>13</th>\n",
       "      <td>payments</td>\n",
       "      <td>0.05</td>\n",
       "      <td>50721.48</td>\n",
       "      <td>50721.43</td>\n",
       "      <td>1784.48</td>\n",
       "      <td>896.68</td>\n",
       "      <td>2909.64</td>\n",
       "      <td>5.87</td>\n",
       "      <td>54.27</td>\n",
       "    </tr>\n",
       "    <tr>\n",
       "      <th>14</th>\n",
       "      <td>minimum_payments</td>\n",
       "      <td>0.02</td>\n",
       "      <td>76406.21</td>\n",
       "      <td>76406.19</td>\n",
       "      <td>864.30</td>\n",
       "      <td>312.45</td>\n",
       "      <td>2372.43</td>\n",
       "      <td>13.62</td>\n",
       "      <td>283.96</td>\n",
       "    </tr>\n",
       "    <tr>\n",
       "      <th>15</th>\n",
       "      <td>prc_full_payment</td>\n",
       "      <td>0.00</td>\n",
       "      <td>1.00</td>\n",
       "      <td>1.00</td>\n",
       "      <td>0.16</td>\n",
       "      <td>0.00</td>\n",
       "      <td>0.30</td>\n",
       "      <td>1.89</td>\n",
       "      <td>2.20</td>\n",
       "    </tr>\n",
       "    <tr>\n",
       "      <th>16</th>\n",
       "      <td>tenure</td>\n",
       "      <td>6.00</td>\n",
       "      <td>12.00</td>\n",
       "      <td>6.00</td>\n",
       "      <td>11.53</td>\n",
       "      <td>12.00</td>\n",
       "      <td>1.31</td>\n",
       "      <td>-3.01</td>\n",
       "      <td>8.16</td>\n",
       "    </tr>\n",
       "  </tbody>\n",
       "</table>\n",
       "</div>"
      ],
      "text/plain": [
       "                          attributes   min      max    range    mean  median     std  skewness  kurtosis\n",
       "0                            balance  0.00 19043.14 19043.14 1601.22  916.86 2095.45      2.37      7.55\n",
       "1                  balance_frequency  0.00     1.00     1.00    0.90    1.00    0.21     -2.08      3.37\n",
       "2                          purchases  0.00 49039.57 49039.57 1025.43  375.40 2166.98      8.06    108.68\n",
       "3                   oneoff_purchases  0.00 40761.25 40761.25  604.90   45.00 1684.21      9.94    160.12\n",
       "4             installments_purchases  0.00 22500.00 22500.00  420.84   94.78  917.19      7.22     94.19\n",
       "5                       cash_advance  0.00 47137.21 47137.21  994.18    0.00 2121.34      5.14     52.14\n",
       "6                purchases_frequency  0.00     1.00     1.00    0.50    0.50    0.40      0.03     -1.64\n",
       "7         oneoff_purchases_frequency  0.00     1.00     1.00    0.21    0.08    0.30      1.50      1.06\n",
       "8   purchases_installments_frequency  0.00     1.00     1.00    0.37    0.17    0.40      0.49     -1.42\n",
       "9             cash_advance_frequency  0.00     1.50     1.50    0.14    0.00    0.20      1.80      3.18\n",
       "10                  cash_advance_trx  0.00   123.00   123.00    3.31    0.00    6.91      5.67     60.43\n",
       "11                     purchases_trx  0.00   358.00   358.00   15.03    7.00   25.18      4.58     33.95\n",
       "12                      credit_limit 50.00 30000.00 29950.00 4522.09 3000.00 3659.03      1.51      2.77\n",
       "13                          payments  0.05 50721.48 50721.43 1784.48  896.68 2909.64      5.87     54.27\n",
       "14                  minimum_payments  0.02 76406.21 76406.19  864.30  312.45 2372.43     13.62    283.96\n",
       "15                  prc_full_payment  0.00     1.00     1.00    0.16    0.00    0.30      1.89      2.20\n",
       "16                            tenure  6.00    12.00     6.00   11.53   12.00    1.31     -3.01      8.16"
      ]
     },
     "execution_count": 11,
     "metadata": {},
     "output_type": "execute_result"
    }
   ],
   "source": [
    "num_attributes = data.select_dtypes(include=['int64', 'float64'])\n",
    "\n",
    "#Central Tendecy - média e mediana\n",
    "ct1 = pd.DataFrame( num_attributes.apply( np.mean ) ).T\n",
    "ct2 = pd.DataFrame( num_attributes.apply( np.median ) ).T\n",
    "\n",
    "#Dispersion - desvio, min, max, range, skew, kurtosis\n",
    "d1 = pd.DataFrame( num_attributes.apply( np.std ) ).T\n",
    "d2 = pd.DataFrame( num_attributes.apply( min ) ).T\n",
    "d3 = pd.DataFrame( num_attributes.apply( max ) ).T\n",
    "d4 = pd.DataFrame( num_attributes.apply( lambda x: x.max() - x.min() ) ).T\n",
    "d5 = pd.DataFrame( num_attributes.apply( lambda x: x.skew() ) ).T\n",
    "d6 = pd.DataFrame( num_attributes.apply( lambda x: x.kurtosis() ) ).T\n",
    "\n",
    "#concat\n",
    "m = pd.concat( [d2, d3, d4, ct1, ct2, d1, d5, d6]).T.reset_index()\n",
    "m.columns = ['attributes', 'min','max','range','mean','median','std','skewness','kurtosis']\n",
    "m"
   ]
  },
  {
   "cell_type": "markdown",
   "id": "2ad71a2d",
   "metadata": {},
   "source": [
    "1. Mínimo\n",
    "    - Menor valor de um conjunto de dados.\n",
    "    \n",
    "    \n",
    "2. Máximo\n",
    "    - Maior valor de um conjunto de dados.\n",
    "    \n",
    "    \n",
    "3. Range\n",
    "    - A diferença entre o maior e menor valor de um conjunto de dados\n",
    "    - Mostra a escala dos dados, mostra se precisa transformar as variáveis \n",
    "    \n",
    "    \n",
    "4. Média\n",
    "    - A soma de todos os valores dividido pelo número de valores\n",
    "    - Resume o conjunto de dados em um ponto central\n",
    "    \n",
    "    \n",
    "5. Mediana\n",
    "    - O número do meio de uma lista ordenada\n",
    "    \n",
    "    \n",
    "6. Desvio Padrão\n",
    "    - Estimativa de dispersão ou variabilidade\n",
    "    - Mede a dispersão dos valores do conjunto de dados em torno de uma estimativa de localização (média)\n",
    "    \n",
    "    \n",
    "7. Skewness\n",
    "    - O quanto a distribuição está deslocada em relação a uma Gaussiana\n",
    "    - Grau de assimetria da distribuição\n",
    "    - Normal tem uma skewness 0\n",
    "    - A distribuição normal tem simetria em relação a média, ou seja, 50% dos dados estão a esquerda e a direita\n",
    "    - Skewness negativa, deslocada para esquerda\n",
    "    - Skewness positiva, deslocada para direita\n",
    "    \n",
    "    \n",
    "8. Kurtosis\n",
    "    - Distribuição com um pico muito esticado\n",
    "    - Fala sobre os outliers"
   ]
  },
  {
   "cell_type": "code",
   "execution_count": 12,
   "id": "e046bf99",
   "metadata": {
    "ExecuteTime": {
     "end_time": "2021-12-13T22:43:31.226233Z",
     "start_time": "2021-12-13T22:43:31.224065Z"
    }
   },
   "outputs": [],
   "source": [
    "#BOXPLOT\n",
    "\n",
    "#Minimo = Q1 - 1.5 * (Q3 - Q1)\n",
    "#if minimo < valor_minimo_do_conjunto_de_dados:\n",
    "#    print(num_attributes['credit_limit'].min())\n",
    "#else:\n",
    "#    print(minimo)\n",
    "\n",
    "\n",
    "#Quartil 01\n",
    "#Quartil 02 = Mediana\n",
    "#Quartil 03\n",
    "\n",
    "# BARRA DE CIMA = Q3 + 1.5 * (Q3 - Q1)\n",
    "\n",
    "# BARRA DE BAIXO\n"
   ]
  },
  {
   "cell_type": "markdown",
   "id": "4d6428c3",
   "metadata": {},
   "source": [
    "Balance: quanto eu já gastei no cartão\n",
    "\n",
    "Cash Advance: valor do saque do limite do cartão de crédito, acumulado dos últimos 6 meses\n",
    "Um adiantamento em dinheiro é basicamente um empréstimo de curto prazo oferecido pelo emissor do cartão de crédito. Quando você pega um adiantamento em dinheiro, está tomando dinheiro emprestado contra  alinha de crédito do seu cartão\n",
    "\n",
    "Balance Frequency: frequencia de uso do cartão\n",
    "\n",
    "Purchases: o valor gasto no cartão acumulado dos últimos 6 meses\n",
    "\n",
    "Purchases On-off: a soma de todas as compras pagas 1x no cartão, nos ultimos 6 meses\n",
    "\n",
    "Cash Advance: valor do saque do limite do cartão de crédito, acumulado dos últimos 6 meses.\n",
    "\n",
    "Purchases Frequency: um valor de 0 a 1 que identifica a frequência de compra do cliente.\n",
    "\n",
    "Cash Advance Frequency: a frequencia com que o cliente faz retiradas de dinheiro do seu cartão de crédito\n",
    "\n",
    "Cash Advance TRX: a quantidade de saques da conta do cartão de crédito\n",
    "\n",
    "Purchases TRX: a quantidade de compras realizadas no cartão de crédito\n",
    "\n",
    "Credit Limit: o limite do cartão de crédito\n",
    "\n",
    "Payments: o valor pago da fatura, não necessariamente o valor inteiro\n",
    "\n",
    "Minimum Payments: o valor mínimo pago da fatura\n",
    "\n",
    "Tenure: o tempo de posse do cartão em meses"
   ]
  },
  {
   "cell_type": "markdown",
   "id": "8024e1b0",
   "metadata": {},
   "source": [
    "# DATA FILTERING"
   ]
  },
  {
   "cell_type": "code",
   "execution_count": 13,
   "id": "42bca594",
   "metadata": {
    "ExecuteTime": {
     "end_time": "2021-12-13T22:56:28.814997Z",
     "start_time": "2021-12-13T22:56:28.807375Z"
    }
   },
   "outputs": [],
   "source": [
    "df20 = data.copy()"
   ]
  },
  {
   "cell_type": "markdown",
   "id": "cdb3ae69",
   "metadata": {},
   "source": [
    "# FEATURE ENGINEERING "
   ]
  },
  {
   "cell_type": "code",
   "execution_count": 14,
   "id": "bebafcad",
   "metadata": {
    "ExecuteTime": {
     "end_time": "2021-12-13T22:56:36.877703Z",
     "start_time": "2021-12-13T22:56:36.868565Z"
    }
   },
   "outputs": [],
   "source": [
    "df30 = df20.copy()"
   ]
  },
  {
   "cell_type": "code",
   "execution_count": 26,
   "id": "5d407ff4",
   "metadata": {
    "ExecuteTime": {
     "end_time": "2021-12-13T23:32:28.665838Z",
     "start_time": "2021-12-13T23:32:28.652164Z"
    }
   },
   "outputs": [],
   "source": [
    "#pagamento a vista ou nao\n",
    "df30['one_payment'] = df30['oneoff_purchases'].apply(lambda x: 0 if x == 0.00 else 1)\n",
    "\n",
    "# gasto médio por transação de compra\n",
    "df30['avg_ticket_purchases'] = df30['purchases'] / df30['purchases_trx']\n",
    "\n",
    "# gasto médio por transação de compra\n",
    "df30['avg_ticket_expenses'] = (df30['purchases'] + df30['cash_advance']) / (df30['purchases_trx'] + df30['cash_advance'])\n",
    "\n",
    "#soma das despesas / soma dos pagamentos\n",
    "df30['debt_rate'] = ( df30['purchases'] + df30['cash_advance']) / (df30['payments'] + df30['minimum_payments'])\n",
    "\n",
    "#percentual de uso do limite do cartão\n",
    "df30['credit_limit_rate'] = df30['purchases'] / 6*(df30['credit_limit'])"
   ]
  },
  {
   "cell_type": "markdown",
   "id": "c8767746",
   "metadata": {},
   "source": [
    "# EDA "
   ]
  },
  {
   "cell_type": "code",
   "execution_count": 27,
   "id": "378e9d61",
   "metadata": {
    "ExecuteTime": {
     "end_time": "2021-12-13T23:32:34.699100Z",
     "start_time": "2021-12-13T23:32:34.687694Z"
    }
   },
   "outputs": [],
   "source": [
    "df40 = df30.copy()"
   ]
  },
  {
   "cell_type": "markdown",
   "id": "d030a138",
   "metadata": {},
   "source": [
    "# DATA PREPARATION "
   ]
  },
  {
   "cell_type": "code",
   "execution_count": 28,
   "id": "6c066fe1",
   "metadata": {
    "ExecuteTime": {
     "end_time": "2021-12-13T23:32:35.782956Z",
     "start_time": "2021-12-13T23:32:35.774428Z"
    }
   },
   "outputs": [],
   "source": [
    "df50 = df40.copy()"
   ]
  },
  {
   "cell_type": "code",
   "execution_count": 29,
   "id": "1d87bb54",
   "metadata": {
    "ExecuteTime": {
     "end_time": "2021-12-13T23:32:43.070090Z",
     "start_time": "2021-12-13T23:32:43.062599Z"
    }
   },
   "outputs": [],
   "source": [
    "from sklearn import preprocessing as pp"
   ]
  },
  {
   "cell_type": "code",
   "execution_count": 30,
   "id": "a10f556f",
   "metadata": {
    "ExecuteTime": {
     "end_time": "2021-12-13T23:32:47.840980Z",
     "start_time": "2021-12-13T23:32:47.807877Z"
    }
   },
   "outputs": [
    {
     "data": {
      "text/html": [
       "<div>\n",
       "<style scoped>\n",
       "    .dataframe tbody tr th:only-of-type {\n",
       "        vertical-align: middle;\n",
       "    }\n",
       "\n",
       "    .dataframe tbody tr th {\n",
       "        vertical-align: top;\n",
       "    }\n",
       "\n",
       "    .dataframe thead th {\n",
       "        text-align: right;\n",
       "    }\n",
       "</style>\n",
       "<table border=\"1\" class=\"dataframe\">\n",
       "  <thead>\n",
       "    <tr style=\"text-align: right;\">\n",
       "      <th></th>\n",
       "      <th>cust_id</th>\n",
       "      <th>balance</th>\n",
       "      <th>balance_frequency</th>\n",
       "      <th>purchases</th>\n",
       "      <th>oneoff_purchases</th>\n",
       "      <th>installments_purchases</th>\n",
       "      <th>cash_advance</th>\n",
       "      <th>purchases_frequency</th>\n",
       "      <th>oneoff_purchases_frequency</th>\n",
       "      <th>purchases_installments_frequency</th>\n",
       "      <th>cash_advance_frequency</th>\n",
       "      <th>cash_advance_trx</th>\n",
       "      <th>purchases_trx</th>\n",
       "      <th>credit_limit</th>\n",
       "      <th>payments</th>\n",
       "      <th>minimum_payments</th>\n",
       "      <th>prc_full_payment</th>\n",
       "      <th>tenure</th>\n",
       "      <th>one_payment</th>\n",
       "      <th>avg_ticket_purchases</th>\n",
       "      <th>avg_ticket_expenses</th>\n",
       "      <th>debt_rate</th>\n",
       "      <th>credit_limit_rate</th>\n",
       "    </tr>\n",
       "  </thead>\n",
       "  <tbody>\n",
       "    <tr>\n",
       "      <th>0</th>\n",
       "      <td>C10001</td>\n",
       "      <td>40.90</td>\n",
       "      <td>0.82</td>\n",
       "      <td>95.40</td>\n",
       "      <td>0.00</td>\n",
       "      <td>95.40</td>\n",
       "      <td>0.00</td>\n",
       "      <td>0.17</td>\n",
       "      <td>0.00</td>\n",
       "      <td>0.08</td>\n",
       "      <td>0.00</td>\n",
       "      <td>0</td>\n",
       "      <td>2</td>\n",
       "      <td>1000.00</td>\n",
       "      <td>201.80</td>\n",
       "      <td>139.51</td>\n",
       "      <td>0.00</td>\n",
       "      <td>12</td>\n",
       "      <td>0</td>\n",
       "      <td>47.70</td>\n",
       "      <td>47.70</td>\n",
       "      <td>0.28</td>\n",
       "      <td>15900.00</td>\n",
       "    </tr>\n",
       "    <tr>\n",
       "      <th>1</th>\n",
       "      <td>C10002</td>\n",
       "      <td>3202.47</td>\n",
       "      <td>0.91</td>\n",
       "      <td>0.00</td>\n",
       "      <td>0.00</td>\n",
       "      <td>0.00</td>\n",
       "      <td>6442.95</td>\n",
       "      <td>0.00</td>\n",
       "      <td>0.00</td>\n",
       "      <td>0.00</td>\n",
       "      <td>0.25</td>\n",
       "      <td>4</td>\n",
       "      <td>0</td>\n",
       "      <td>7000.00</td>\n",
       "      <td>4103.03</td>\n",
       "      <td>1072.34</td>\n",
       "      <td>0.22</td>\n",
       "      <td>12</td>\n",
       "      <td>0</td>\n",
       "      <td>NaN</td>\n",
       "      <td>1.00</td>\n",
       "      <td>1.24</td>\n",
       "      <td>0.00</td>\n",
       "    </tr>\n",
       "    <tr>\n",
       "      <th>2</th>\n",
       "      <td>C10003</td>\n",
       "      <td>2495.15</td>\n",
       "      <td>1.00</td>\n",
       "      <td>773.17</td>\n",
       "      <td>773.17</td>\n",
       "      <td>0.00</td>\n",
       "      <td>0.00</td>\n",
       "      <td>1.00</td>\n",
       "      <td>1.00</td>\n",
       "      <td>0.00</td>\n",
       "      <td>0.00</td>\n",
       "      <td>0</td>\n",
       "      <td>12</td>\n",
       "      <td>7500.00</td>\n",
       "      <td>622.07</td>\n",
       "      <td>627.28</td>\n",
       "      <td>0.00</td>\n",
       "      <td>12</td>\n",
       "      <td>1</td>\n",
       "      <td>64.43</td>\n",
       "      <td>64.43</td>\n",
       "      <td>0.62</td>\n",
       "      <td>966462.50</td>\n",
       "    </tr>\n",
       "    <tr>\n",
       "      <th>4</th>\n",
       "      <td>C10005</td>\n",
       "      <td>817.71</td>\n",
       "      <td>1.00</td>\n",
       "      <td>16.00</td>\n",
       "      <td>16.00</td>\n",
       "      <td>0.00</td>\n",
       "      <td>0.00</td>\n",
       "      <td>0.08</td>\n",
       "      <td>0.08</td>\n",
       "      <td>0.00</td>\n",
       "      <td>0.00</td>\n",
       "      <td>0</td>\n",
       "      <td>1</td>\n",
       "      <td>1200.00</td>\n",
       "      <td>678.33</td>\n",
       "      <td>244.79</td>\n",
       "      <td>0.00</td>\n",
       "      <td>12</td>\n",
       "      <td>1</td>\n",
       "      <td>16.00</td>\n",
       "      <td>16.00</td>\n",
       "      <td>0.02</td>\n",
       "      <td>3200.00</td>\n",
       "    </tr>\n",
       "    <tr>\n",
       "      <th>5</th>\n",
       "      <td>C10006</td>\n",
       "      <td>1809.83</td>\n",
       "      <td>1.00</td>\n",
       "      <td>1333.28</td>\n",
       "      <td>0.00</td>\n",
       "      <td>1333.28</td>\n",
       "      <td>0.00</td>\n",
       "      <td>0.67</td>\n",
       "      <td>0.00</td>\n",
       "      <td>0.58</td>\n",
       "      <td>0.00</td>\n",
       "      <td>0</td>\n",
       "      <td>8</td>\n",
       "      <td>1800.00</td>\n",
       "      <td>1400.06</td>\n",
       "      <td>2407.25</td>\n",
       "      <td>0.00</td>\n",
       "      <td>12</td>\n",
       "      <td>0</td>\n",
       "      <td>166.66</td>\n",
       "      <td>166.66</td>\n",
       "      <td>0.35</td>\n",
       "      <td>399984.00</td>\n",
       "    </tr>\n",
       "  </tbody>\n",
       "</table>\n",
       "</div>"
      ],
      "text/plain": [
       "  cust_id  balance  balance_frequency  purchases  oneoff_purchases  installments_purchases  cash_advance  purchases_frequency  oneoff_purchases_frequency  purchases_installments_frequency  cash_advance_frequency  cash_advance_trx  purchases_trx  credit_limit  payments  minimum_payments  prc_full_payment  tenure  one_payment  avg_ticket_purchases  avg_ticket_expenses  debt_rate  credit_limit_rate\n",
       "0  C10001    40.90               0.82      95.40              0.00                   95.40          0.00                 0.17                        0.00                              0.08                    0.00                 0              2       1000.00    201.80            139.51              0.00      12            0                 47.70                47.70       0.28           15900.00\n",
       "1  C10002  3202.47               0.91       0.00              0.00                    0.00       6442.95                 0.00                        0.00                              0.00                    0.25                 4              0       7000.00   4103.03           1072.34              0.22      12            0                   NaN                 1.00       1.24               0.00\n",
       "2  C10003  2495.15               1.00     773.17            773.17                    0.00          0.00                 1.00                        1.00                              0.00                    0.00                 0             12       7500.00    622.07            627.28              0.00      12            1                 64.43                64.43       0.62          966462.50\n",
       "4  C10005   817.71               1.00      16.00             16.00                    0.00          0.00                 0.08                        0.08                              0.00                    0.00                 0              1       1200.00    678.33            244.79              0.00      12            1                 16.00                16.00       0.02            3200.00\n",
       "5  C10006  1809.83               1.00    1333.28              0.00                 1333.28          0.00                 0.67                        0.00                              0.58                    0.00                 0              8       1800.00   1400.06           2407.25              0.00      12            0                166.66               166.66       0.35          399984.00"
      ]
     },
     "execution_count": 30,
     "metadata": {},
     "output_type": "execute_result"
    }
   ],
   "source": [
    "df50.head()"
   ]
  },
  {
   "cell_type": "code",
   "execution_count": 18,
   "id": "d623a7c5",
   "metadata": {
    "ExecuteTime": {
     "end_time": "2021-12-13T23:30:24.999767Z",
     "start_time": "2021-12-13T23:30:24.944178Z"
    }
   },
   "outputs": [],
   "source": [
    "# Variável Normal + sem outlier -> Standard Scaler ( x - mean / std)\n",
    "\n",
    "# Variável Normal + com outlier -> Robust Scaler ( x - q1) / (q3 - q1)\n",
    "\n",
    "#Variável não normal -> Min-Max Scaler (x - min) / (max - min)\n",
    "\n",
    "mm = pp.MinMaxScaler()\n",
    "\n",
    "df50['balance'] = mm.fit_transform( df50[['balance']] )\n",
    "\n",
    "df50['purchases'] = mm.fit_transform( df50[['purchases']] )\n",
    "\n",
    "df50['oneoff_purchases'] = mm.fit_transform( df50[['oneoff_purchases']] )\n",
    "\n",
    "df50['installments_purchases'] = mm.fit_transform( df50[['installments_purchases']] )\n",
    "\n",
    "df50['cash_advance'] = mm.fit_transform( df50[['cash_advance']] )\n",
    "\n",
    "df50['cash_advance_trx'] = mm.fit_transform( df50[['cash_advance_trx']] )\n",
    "\n",
    "df50['purchases_trx'] = mm.fit_transform( df50[['purchases_trx']] )\n",
    "\n",
    "df50['credit_limit'] = mm.fit_transform( df50[['credit_limit']] )\n",
    "\n",
    "df50['payments'] = mm.fit_transform( df50[['payments']] )\n",
    "\n",
    "df50['minimum_payments'] = mm.fit_transform( df50[['minimum_payments']] )\n",
    "\n",
    "df50['tenure'] = mm.fit_transform( df50[['tenure']] )\n",
    "\n",
    "\n"
   ]
  },
  {
   "cell_type": "markdown",
   "id": "c4eaf10e",
   "metadata": {},
   "source": [
    "# FEATURE SELECTION "
   ]
  },
  {
   "cell_type": "code",
   "execution_count": 21,
   "id": "c06b490b",
   "metadata": {
    "ExecuteTime": {
     "end_time": "2021-12-13T23:30:57.572297Z",
     "start_time": "2021-12-13T23:30:57.559793Z"
    }
   },
   "outputs": [],
   "source": [
    "cols_drop = ['cust_id']\n",
    "X = df50.drop( columns=cols_drop )"
   ]
  },
  {
   "cell_type": "markdown",
   "id": "182060c8",
   "metadata": {},
   "source": [
    "# HYPERPARAMETER FINE TUNNING "
   ]
  },
  {
   "cell_type": "markdown",
   "id": "71462d40",
   "metadata": {},
   "source": [
    "## K-Means"
   ]
  },
  {
   "cell_type": "code",
   "execution_count": 22,
   "id": "c61e2214",
   "metadata": {
    "ExecuteTime": {
     "end_time": "2021-12-13T23:31:24.687247Z",
     "start_time": "2021-12-13T23:31:00.892731Z"
    }
   },
   "outputs": [],
   "source": [
    "from sklearn import cluster as c\n",
    "from sklearn import metrics as m\n",
    "\n",
    "clusters = [2, 3, 4, 5, 6, 7, 8]\n",
    "\n",
    "silhouette_list = []\n",
    "davies_list = []\n",
    "for k in clusters:\n",
    "    #model definition\n",
    "    kmeans_model = c.KMeans( n_clusters=k )\n",
    "    \n",
    "    #model training\n",
    "    kmeans_model.fit( X )\n",
    "    \n",
    "    #model predict\n",
    "    labels = kmeans_model.predict( X )\n",
    "    \n",
    "    #model performance\n",
    "    sil = m.silhouette_score( X, labels)\n",
    "    dav = m.davies_bouldin_score( X, labels)\n",
    "    silhouette_list.append(sil)\n",
    "    davies_list.append(dav)\n",
    "    "
   ]
  },
  {
   "cell_type": "code",
   "execution_count": 23,
   "id": "65ab894c",
   "metadata": {
    "ExecuteTime": {
     "end_time": "2021-12-13T23:31:24.938026Z",
     "start_time": "2021-12-13T23:31:24.689339Z"
    }
   },
   "outputs": [
    {
     "data": {
      "image/png": "[encoded data removed]",
      "text/plain": [
       "<Figure size 1800x864 with 1 Axes>"
      ]
     },
     "metadata": {},
     "output_type": "display_data"
    }
   ],
   "source": [
    "plt.plot( clusters, silhouette_list, linestyle='--', marker='o', color='b')\n",
    "plt.xlabel( 'K - Number of Clusters' )\n",
    "plt.ylabel( 'SS - Silhouette Score')\n",
    "plt.title( 'Silhouette Score');"
   ]
  },
  {
   "cell_type": "code",
   "execution_count": 24,
   "id": "419b4373",
   "metadata": {
    "ExecuteTime": {
     "end_time": "2021-12-13T23:31:25.124592Z",
     "start_time": "2021-12-13T23:31:24.939210Z"
    }
   },
   "outputs": [
    {
     "data": {
      "image/png": "[encoded data removed]",
      "text/plain": [
       "<Figure size 1800x864 with 1 Axes>"
      ]
     },
     "metadata": {},
     "output_type": "display_data"
    }
   ],
   "source": [
    "plt.plot( clusters, davies_list, linestyle='--', marker='o', color='b')\n",
    "plt.xlabel( 'K - Number of Clusters' )\n",
    "plt.ylabel( 'DB Score')\n",
    "plt.title( 'DB Index');"
   ]
  },
  {
   "cell_type": "markdown",
   "id": "8e895a7d",
   "metadata": {},
   "source": [
    "# MACHINE LEARNING"
   ]
  },
  {
   "cell_type": "markdown",
   "id": "9d435466",
   "metadata": {},
   "source": [
    "# CLUSTERING ANALYSIS"
   ]
  },
  {
   "cell_type": "markdown",
   "id": "c5867d76",
   "metadata": {},
   "source": [
    "# EDA - INSIGHT REPORTS"
   ]
  },
  {
   "cell_type": "markdown",
   "id": "38c2f510",
   "metadata": {},
   "source": [
    "# DEPLOY TO PRODUCTION"
   ]
  },
  {
   "cell_type": "code",
   "execution_count": null,
   "id": "35066b3d",
   "metadata": {},
   "outputs": [],
   "source": []
  }
 ],
 "metadata": {
  "hide_input": false,
  "kernelspec": {
   "display_name": "Python 3 (ipykernel)",
   "language": "python",
   "name": "python3"
  },
  "language_info": {
   "codemirror_mode": {
    "name": "ipython",
    "version": 3
   },
   "file_extension": ".py",
   "mimetype": "text/x-python",
   "name": "python",
   "nbconvert_exporter": "python",
   "pygments_lexer": "ipython3",
   "version": "3.8.10"
  },
  "toc": {
   "base_numbering": 1,
   "nav_menu": {},
   "number_sections": true,
   "sideBar": true,
   "skip_h1_title": false,
   "title_cell": "Table of Contents",
   "title_sidebar": "Contents",
   "toc_cell": false,
   "toc_position": {},
   "toc_section_display": true,
   "toc_window_display": false
  }
 },
 "nbformat": 4,
 "nbformat_minor": 5
}
