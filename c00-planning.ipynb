{
 "cells": [
  {
   "cell_type": "markdown",
   "id": "a3c403d3",
   "metadata": {},
   "source": [
    "# PLANEJAMENTO E ENTEDIMENTO DO NEGÓCIO"
   ]
  },
  {
   "cell_type": "markdown",
   "id": "c49b0329",
   "metadata": {},
   "source": [
    "**A empresa International Bank**\n",
    "\n",
    "    Disclaimer: O contexto a seguir é completamente fictício, a empresa, o contexto, o CEO e as perguntas de negócio existem somente na minha imaginação.\n",
    "\n",
    "    O International Bank é um banco internacional que fornece produtos financeiros, como empréstimos, contas correntes, contas poupança, opções de investimentos, cartões de crédito e etc.\n",
    "\n",
    "    A cada quarter do ano, os líderes se reúnem para decidir os objetivos da empresa para os próximos 3 meses. Nessa última reunião, uma das metas decididas é a criação de uma estratégia de marketing para abordar os clientes que usam cartão de crédito.\n",
    "\n",
    "    A empresa possui um conjunto de dados sobre o comportamento de uso de aproximadamente 9000 usuários de cartão de crédito ativos, durante os últimos 6 meses e o arquivo está no nível de clientes e possui 18 variáveis comportamentais."
   ]
  },
  {
   "cell_type": "markdown",
   "id": "96ecbe00",
   "metadata": {},
   "source": [
    "**O desafio**\n",
    "\n",
    "    Você foi contratado como um cientista de dados consultor, para criar um produto de dados que cria uma segmentação de clientes que direcionará a estratégia de marketing e os resultados esperados do seu trabalho de consultoria, são os seguintes:\n",
    "\n",
    "    - Criar uma segmentação de clientes baseado em critérios claros de seleção.\n",
    "    - Tornar a segmentação de clientes acessível para o time de operações.\n",
    "    - Ensinar o time de operações sobre como usar a sua solução.\n",
    "    - Transferir o conhecimento para os Cientistas de Dados da International Bank.\n",
    "    - Recomendar 2-3 alavancas de negócio para cada segmento de clientes."
   ]
  },
  {
   "cell_type": "markdown",
   "id": "8c6b85e6",
   "metadata": {},
   "source": [
    "**Roteiro**\n",
    "\n",
    "    1 - Explore os Dados usando ferramentas e testes Estatísticos com o objetivo de encontrar inconsistências dos dados e tratar possíveis dados faltantes.\n",
    "    2 - Levante Hipóteses sobre as características de um cliente Insider.\n",
    "    3 - Prepare os dados para ensinar os algoritmos de Machine Learning.\n",
    "    4 - Escreva vários algoritmos de Agrupamento.\n",
    "    5 - Contabilize a performance do modelo de Machine Learning treinado e valide a segmentação definida.\n",
    "    6 - Monte um sistema de fornecimento da segmentação na Cloud da AWS e use uma ferramenta de visualização para acessar os dados.\n",
    "    7 - Crie um README sobre como interpretar e usar a sua solução.\n",
    "    8 - Escreva um Relatório com as recomendações das alavancas para cada segmento."
   ]
  },
  {
   "cell_type": "markdown",
   "id": "6300e38f",
   "metadata": {},
   "source": [
    "**RFM Model**\n",
    "    \n",
    "    1. Recency\n",
    "        a. Tempo desde a última compra.\n",
    "        b. Responsividade\n",
    "        \n",
    "    2. Frequency\n",
    "        a. Tempo médio entre as transações\n",
    "        b. Engajamento\n",
    "        \n",
    "    3. Monetary\n",
    "        a. Total gasto, faturamento\n",
    "        b. \"High-value Purchases\""
   ]
  },
  {
   "cell_type": "markdown",
   "id": "697d7cdc",
   "metadata": {},
   "source": [
    "# IMPORTS"
   ]
  },
  {
   "cell_type": "code",
   "execution_count": 2,
   "id": "809cee67",
   "metadata": {
    "ExecuteTime": {
     "end_time": "2021-10-26T14:03:58.007741Z",
     "start_time": "2021-10-26T14:03:57.589520Z"
    }
   },
   "outputs": [],
   "source": [
    "import inflection\n",
    "\n",
    "import numpy as np\n",
    "import pandas as pd\n",
    "import seaborn as sns\n",
    "\n",
    "from matplotlib import pyplot as plt\n",
    "from IPython.core.display  import HTML\n",
    "\n",
    "pd.set_option('display.float_format', lambda x: '%.2f' % x)"
   ]
  },
  {
   "cell_type": "markdown",
   "id": "e35e1b5c",
   "metadata": {},
   "source": [
    "## Helper Functions"
   ]
  },
  {
   "cell_type": "code",
   "execution_count": 3,
   "id": "ce4fce2b",
   "metadata": {
    "ExecuteTime": {
     "end_time": "2021-10-26T14:03:58.684517Z",
     "start_time": "2021-10-26T14:03:58.671764Z"
    }
   },
   "outputs": [
    {
     "name": "stdout",
     "output_type": "stream",
     "text": [
      "Populating the interactive namespace from numpy and matplotlib\n"
     ]
    },
    {
     "data": {
      "text/html": [
       "<style>.container { width:100% !important; }</style>"
      ],
      "text/plain": [
       "<IPython.core.display.HTML object>"
      ]
     },
     "metadata": {},
     "output_type": "display_data"
    }
   ],
   "source": [
    "def jupyter_settings():\n",
    "    %matplotlib inline\n",
    "    %pylab inline\n",
    "    plt.style.use( 'bmh' )\n",
    "    plt.rcParams['figure.figsize'] = [25, 12]\n",
    "    plt.rcParams['font.size'] = 24\n",
    "    display( HTML( '<style>.container { width:100% !important; }</style>') )\n",
    "    pd.options.display.max_columns = None\n",
    "    pd.options.display.max_rows = None\n",
    "    pd.set_option( 'display.expand_frame_repr', False )\n",
    "    sns.set()\n",
    "    \n",
    "jupyter_settings()"
   ]
  }
 ],
 "metadata": {
  "hide_input": false,
  "kernelspec": {
   "display_name": "Python 3 (ipykernel)",
   "language": "python",
   "name": "python3"
  },
  "language_info": {
   "codemirror_mode": {
    "name": "ipython",
    "version": 3
   },
   "file_extension": ".py",
   "mimetype": "text/x-python",
   "name": "python",
   "nbconvert_exporter": "python",
   "pygments_lexer": "ipython3",
   "version": "3.8.10"
  },
  "toc": {
   "base_numbering": 1,
   "nav_menu": {},
   "number_sections": true,
   "sideBar": true,
   "skip_h1_title": false,
   "title_cell": "Table of Contents",
   "title_sidebar": "Contents",
   "toc_cell": false,
   "toc_position": {},
   "toc_section_display": true,
   "toc_window_display": false
  }
 },
 "nbformat": 4,
 "nbformat_minor": 5
}
