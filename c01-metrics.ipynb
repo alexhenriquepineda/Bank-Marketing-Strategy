{
 "cells": [
  {
   "cell_type": "markdown",
   "id": "a3c403d3",
   "metadata": {},
   "source": [
    "# PLANEJAMENTO E ENTEDIMENTO DO NEGÓCIO"
   ]
  },
  {
   "cell_type": "markdown",
   "id": "c49b0329",
   "metadata": {},
   "source": [
    "**A empresa International Bank**\n",
    "\n",
    "    Disclaimer: O contexto a seguir é completamente fictício, a empresa, o contexto, o CEO e as perguntas de negócio existem somente na minha imaginação.\n",
    "\n",
    "    O International Bank é um banco internacional que fornece produtos financeiros, como empréstimos, contas correntes, contas poupança, opções de investimentos, cartões de crédito e etc.\n",
    "\n",
    "    A cada quarter do ano, os líderes se reúnem para decidir os objetivos da empresa para os próximos 3 meses. Nessa última reunião, uma das metas decididas é a criação de uma estratégia de marketing para abordar os clientes que usam cartão de crédito.\n",
    "\n",
    "    A empresa possui um conjunto de dados sobre o comportamento de uso de aproximadamente 9000 usuários de cartão de crédito ativos, durante os últimos 6 meses e o arquivo está no nível de clientes e possui 18 variáveis comportamentais."
   ]
  },
  {
   "cell_type": "markdown",
   "id": "96ecbe00",
   "metadata": {},
   "source": [
    "**O desafio**\n",
    "\n",
    "    Você foi contratado como um cientista de dados consultor, para criar um produto de dados que cria uma segmentação de clientes que direcionará a estratégia de marketing e os resultados esperados do seu trabalho de consultoria, são os seguintes:\n",
    "\n",
    "    - Criar uma segmentação de clientes baseado em critérios claros de seleção.\n",
    "    - Tornar a segmentação de clientes acessível para o time de operações.\n",
    "    - Ensinar o time de operações sobre como usar a sua solução.\n",
    "    - Transferir o conhecimento para os Cientistas de Dados da International Bank.\n",
    "    - Recomendar 2-3 alavancas de negócio para cada segmento de clientes."
   ]
  },
  {
   "cell_type": "markdown",
   "id": "8c6b85e6",
   "metadata": {},
   "source": [
    "**Roteiro**\n",
    "\n",
    "    1 - Explore os Dados usando ferramentas e testes Estatísticos com o objetivo de encontrar inconsistências dos dados e tratar possíveis dados faltantes.\n",
    "    2 - Levante Hipóteses sobre as características de um cliente Insider.\n",
    "    3 - Prepare os dados para ensinar os algoritmos de Machine Learning.\n",
    "    4 - Escreva vários algoritmos de Agrupamento.\n",
    "    5 - Contabilize a performance do modelo de Machine Learning treinado e valide a segmentação definida.\n",
    "    6 - Monte um sistema de fornecimento da segmentação na Cloud da AWS e use uma ferramenta de visualização para acessar os dados.\n",
    "    7 - Crie um README sobre como interpretar e usar a sua solução.\n",
    "    8 - Escreva um Relatório com as recomendações das alavancas para cada segmento."
   ]
  },
  {
   "cell_type": "markdown",
   "id": "6300e38f",
   "metadata": {},
   "source": [
    "**RFM Model**\n",
    "    \n",
    "    1. Recency\n",
    "        a. Tempo desde a última compra.\n",
    "        b. Responsividade\n",
    "        \n",
    "    2. Frequency\n",
    "        a. Tempo médio entre as transações\n",
    "        b. Engajamento\n",
    "        \n",
    "    3. Monetary\n",
    "        a. Total gasto, faturamento\n",
    "        b. \"High-value Purchases\""
   ]
  },
  {
   "cell_type": "markdown",
   "id": "2d3173fd",
   "metadata": {},
   "source": [
    "## IOT"
   ]
  },
  {
   "cell_type": "markdown",
   "id": "109f6b89",
   "metadata": {},
   "source": [
    "### Input"
   ]
  },
  {
   "cell_type": "markdown",
   "id": "2e83daa9",
   "metadata": {},
   "source": [
    "### Output"
   ]
  },
  {
   "cell_type": "markdown",
   "id": "3f61db6c",
   "metadata": {},
   "source": [
    "### Tasks"
   ]
  },
  {
   "cell_type": "markdown",
   "id": "697d7cdc",
   "metadata": {},
   "source": [
    "# IMPORTS"
   ]
  },
  {
   "cell_type": "code",
   "execution_count": 55,
   "id": "809cee67",
   "metadata": {
    "ExecuteTime": {
     "end_time": "2021-11-10T00:18:24.495549Z",
     "start_time": "2021-11-10T00:18:24.483315Z"
    }
   },
   "outputs": [],
   "source": [
    "import inflection\n",
    "\n",
    "import numpy as np\n",
    "import pandas as pd\n",
    "import seaborn as sns\n",
    "\n",
    "from matplotlib import pyplot as plt\n",
    "from IPython.core.display  import HTML\n",
    "\n",
    "from sklearn import cluster as c\n",
    "from sklearn import metrics as m\n",
    "\n",
    "pd.set_option('display.float_format', lambda x: '%.2f' % x)"
   ]
  },
  {
   "cell_type": "markdown",
   "id": "e35e1b5c",
   "metadata": {},
   "source": [
    "## Helper Functions"
   ]
  },
  {
   "cell_type": "code",
   "execution_count": 56,
   "id": "ce4fce2b",
   "metadata": {
    "ExecuteTime": {
     "end_time": "2021-11-10T00:18:24.963890Z",
     "start_time": "2021-11-10T00:18:24.945401Z"
    }
   },
   "outputs": [
    {
     "name": "stdout",
     "output_type": "stream",
     "text": [
      "Populating the interactive namespace from numpy and matplotlib\n"
     ]
    },
    {
     "data": {
      "text/html": [
       "<style>.container { width:100% !important; }</style>"
      ],
      "text/plain": [
       "<IPython.core.display.HTML object>"
      ]
     },
     "metadata": {},
     "output_type": "display_data"
    }
   ],
   "source": [
    "def jupyter_settings():\n",
    "    %matplotlib inline\n",
    "    %pylab inline\n",
    "    plt.style.use( 'bmh' )\n",
    "    plt.rcParams['figure.figsize'] = [25, 12]\n",
    "    plt.rcParams['font.size'] = 24\n",
    "    display( HTML( '<style>.container { width:100% !important; }</style>') )\n",
    "    pd.options.display.max_columns = None\n",
    "    pd.options.display.max_rows = None\n",
    "    pd.set_option( 'display.expand_frame_repr', False )\n",
    "    sns.set()\n",
    "    \n",
    "jupyter_settings()"
   ]
  },
  {
   "cell_type": "markdown",
   "id": "0a125099",
   "metadata": {},
   "source": [
    "# LOADING DATA "
   ]
  },
  {
   "cell_type": "code",
   "execution_count": 57,
   "id": "ea427cda",
   "metadata": {
    "ExecuteTime": {
     "end_time": "2021-11-10T00:18:26.846630Z",
     "start_time": "2021-11-10T00:18:26.804800Z"
    }
   },
   "outputs": [],
   "source": [
    "data = pd.read_csv('datasets/bankmarketing.csv')"
   ]
  },
  {
   "cell_type": "markdown",
   "id": "199843c7",
   "metadata": {},
   "source": [
    "# DATA DESCRIPTION"
   ]
  },
  {
   "cell_type": "markdown",
   "id": "4322aefa",
   "metadata": {},
   "source": [
    "## Rename Columns"
   ]
  },
  {
   "cell_type": "code",
   "execution_count": 58,
   "id": "76b0fb2e",
   "metadata": {
    "ExecuteTime": {
     "end_time": "2021-11-10T00:18:27.763923Z",
     "start_time": "2021-11-10T00:18:27.756560Z"
    }
   },
   "outputs": [],
   "source": [
    "data.columns = data.columns.str.lower()"
   ]
  },
  {
   "cell_type": "markdown",
   "id": "61ad194f",
   "metadata": {},
   "source": [
    "## Head"
   ]
  },
  {
   "cell_type": "code",
   "execution_count": 59,
   "id": "5dd7324a",
   "metadata": {
    "ExecuteTime": {
     "end_time": "2021-11-10T00:18:28.343477Z",
     "start_time": "2021-11-10T00:18:28.322787Z"
    }
   },
   "outputs": [
    {
     "data": {
      "text/html": [
       "<div>\n",
       "<style scoped>\n",
       "    .dataframe tbody tr th:only-of-type {\n",
       "        vertical-align: middle;\n",
       "    }\n",
       "\n",
       "    .dataframe tbody tr th {\n",
       "        vertical-align: top;\n",
       "    }\n",
       "\n",
       "    .dataframe thead th {\n",
       "        text-align: right;\n",
       "    }\n",
       "</style>\n",
       "<table border=\"1\" class=\"dataframe\">\n",
       "  <thead>\n",
       "    <tr style=\"text-align: right;\">\n",
       "      <th></th>\n",
       "      <th>cust_id</th>\n",
       "      <th>balance</th>\n",
       "      <th>balance_frequency</th>\n",
       "      <th>purchases</th>\n",
       "      <th>oneoff_purchases</th>\n",
       "      <th>installments_purchases</th>\n",
       "      <th>cash_advance</th>\n",
       "      <th>purchases_frequency</th>\n",
       "      <th>oneoff_purchases_frequency</th>\n",
       "      <th>purchases_installments_frequency</th>\n",
       "      <th>cash_advance_frequency</th>\n",
       "      <th>cash_advance_trx</th>\n",
       "      <th>purchases_trx</th>\n",
       "      <th>credit_limit</th>\n",
       "      <th>payments</th>\n",
       "      <th>minimum_payments</th>\n",
       "      <th>prc_full_payment</th>\n",
       "      <th>tenure</th>\n",
       "    </tr>\n",
       "  </thead>\n",
       "  <tbody>\n",
       "    <tr>\n",
       "      <th>0</th>\n",
       "      <td>C10001</td>\n",
       "      <td>40.90</td>\n",
       "      <td>0.82</td>\n",
       "      <td>95.40</td>\n",
       "      <td>0.00</td>\n",
       "      <td>95.40</td>\n",
       "      <td>0.00</td>\n",
       "      <td>0.17</td>\n",
       "      <td>0.00</td>\n",
       "      <td>0.08</td>\n",
       "      <td>0.00</td>\n",
       "      <td>0</td>\n",
       "      <td>2</td>\n",
       "      <td>1000.00</td>\n",
       "      <td>201.80</td>\n",
       "      <td>139.51</td>\n",
       "      <td>0.00</td>\n",
       "      <td>12</td>\n",
       "    </tr>\n",
       "    <tr>\n",
       "      <th>1</th>\n",
       "      <td>C10002</td>\n",
       "      <td>3202.47</td>\n",
       "      <td>0.91</td>\n",
       "      <td>0.00</td>\n",
       "      <td>0.00</td>\n",
       "      <td>0.00</td>\n",
       "      <td>6442.95</td>\n",
       "      <td>0.00</td>\n",
       "      <td>0.00</td>\n",
       "      <td>0.00</td>\n",
       "      <td>0.25</td>\n",
       "      <td>4</td>\n",
       "      <td>0</td>\n",
       "      <td>7000.00</td>\n",
       "      <td>4103.03</td>\n",
       "      <td>1072.34</td>\n",
       "      <td>0.22</td>\n",
       "      <td>12</td>\n",
       "    </tr>\n",
       "    <tr>\n",
       "      <th>2</th>\n",
       "      <td>C10003</td>\n",
       "      <td>2495.15</td>\n",
       "      <td>1.00</td>\n",
       "      <td>773.17</td>\n",
       "      <td>773.17</td>\n",
       "      <td>0.00</td>\n",
       "      <td>0.00</td>\n",
       "      <td>1.00</td>\n",
       "      <td>1.00</td>\n",
       "      <td>0.00</td>\n",
       "      <td>0.00</td>\n",
       "      <td>0</td>\n",
       "      <td>12</td>\n",
       "      <td>7500.00</td>\n",
       "      <td>622.07</td>\n",
       "      <td>627.28</td>\n",
       "      <td>0.00</td>\n",
       "      <td>12</td>\n",
       "    </tr>\n",
       "    <tr>\n",
       "      <th>3</th>\n",
       "      <td>C10004</td>\n",
       "      <td>1666.67</td>\n",
       "      <td>0.64</td>\n",
       "      <td>1499.00</td>\n",
       "      <td>1499.00</td>\n",
       "      <td>0.00</td>\n",
       "      <td>205.79</td>\n",
       "      <td>0.08</td>\n",
       "      <td>0.08</td>\n",
       "      <td>0.00</td>\n",
       "      <td>0.08</td>\n",
       "      <td>1</td>\n",
       "      <td>1</td>\n",
       "      <td>7500.00</td>\n",
       "      <td>0.00</td>\n",
       "      <td>NaN</td>\n",
       "      <td>0.00</td>\n",
       "      <td>12</td>\n",
       "    </tr>\n",
       "    <tr>\n",
       "      <th>4</th>\n",
       "      <td>C10005</td>\n",
       "      <td>817.71</td>\n",
       "      <td>1.00</td>\n",
       "      <td>16.00</td>\n",
       "      <td>16.00</td>\n",
       "      <td>0.00</td>\n",
       "      <td>0.00</td>\n",
       "      <td>0.08</td>\n",
       "      <td>0.08</td>\n",
       "      <td>0.00</td>\n",
       "      <td>0.00</td>\n",
       "      <td>0</td>\n",
       "      <td>1</td>\n",
       "      <td>1200.00</td>\n",
       "      <td>678.33</td>\n",
       "      <td>244.79</td>\n",
       "      <td>0.00</td>\n",
       "      <td>12</td>\n",
       "    </tr>\n",
       "  </tbody>\n",
       "</table>\n",
       "</div>"
      ],
      "text/plain": [
       "  cust_id  balance  balance_frequency  purchases  oneoff_purchases  installments_purchases  cash_advance  purchases_frequency  oneoff_purchases_frequency  purchases_installments_frequency  cash_advance_frequency  cash_advance_trx  purchases_trx  credit_limit  payments  minimum_payments  prc_full_payment  tenure\n",
       "0  C10001    40.90               0.82      95.40              0.00                   95.40          0.00                 0.17                        0.00                              0.08                    0.00                 0              2       1000.00    201.80            139.51              0.00      12\n",
       "1  C10002  3202.47               0.91       0.00              0.00                    0.00       6442.95                 0.00                        0.00                              0.00                    0.25                 4              0       7000.00   4103.03           1072.34              0.22      12\n",
       "2  C10003  2495.15               1.00     773.17            773.17                    0.00          0.00                 1.00                        1.00                              0.00                    0.00                 0             12       7500.00    622.07            627.28              0.00      12\n",
       "3  C10004  1666.67               0.64    1499.00           1499.00                    0.00        205.79                 0.08                        0.08                              0.00                    0.08                 1              1       7500.00      0.00               NaN              0.00      12\n",
       "4  C10005   817.71               1.00      16.00             16.00                    0.00          0.00                 0.08                        0.08                              0.00                    0.00                 0              1       1200.00    678.33            244.79              0.00      12"
      ]
     },
     "execution_count": 59,
     "metadata": {},
     "output_type": "execute_result"
    }
   ],
   "source": [
    "data.head()"
   ]
  },
  {
   "cell_type": "markdown",
   "id": "14909327",
   "metadata": {},
   "source": [
    "## Columns"
   ]
  },
  {
   "cell_type": "code",
   "execution_count": 60,
   "id": "94973bcf",
   "metadata": {
    "ExecuteTime": {
     "end_time": "2021-11-10T00:18:28.888757Z",
     "start_time": "2021-11-10T00:18:28.878102Z"
    }
   },
   "outputs": [
    {
     "data": {
      "text/plain": [
       "Index(['cust_id', 'balance', 'balance_frequency', 'purchases',\n",
       "       'oneoff_purchases', 'installments_purchases', 'cash_advance',\n",
       "       'purchases_frequency', 'oneoff_purchases_frequency',\n",
       "       'purchases_installments_frequency', 'cash_advance_frequency',\n",
       "       'cash_advance_trx', 'purchases_trx', 'credit_limit', 'payments',\n",
       "       'minimum_payments', 'prc_full_payment', 'tenure'],\n",
       "      dtype='object')"
      ]
     },
     "execution_count": 60,
     "metadata": {},
     "output_type": "execute_result"
    }
   ],
   "source": [
    "data.columns"
   ]
  },
  {
   "cell_type": "markdown",
   "id": "f53f993f",
   "metadata": {},
   "source": [
    "## Data Dimension"
   ]
  },
  {
   "cell_type": "code",
   "execution_count": 61,
   "id": "1035e33c",
   "metadata": {
    "ExecuteTime": {
     "end_time": "2021-11-10T00:18:29.577104Z",
     "start_time": "2021-11-10T00:18:29.568780Z"
    }
   },
   "outputs": [
    {
     "name": "stdout",
     "output_type": "stream",
     "text": [
      "Essa base tem 8950 linhas e 18 colunas\n"
     ]
    }
   ],
   "source": [
    "print(f'Essa base tem {data.shape[0]} linhas e {data.shape[1]} colunas')"
   ]
  },
  {
   "cell_type": "markdown",
   "id": "183e8e27",
   "metadata": {},
   "source": [
    "## Dtypes"
   ]
  },
  {
   "cell_type": "code",
   "execution_count": 62,
   "id": "00c6421b",
   "metadata": {
    "ExecuteTime": {
     "end_time": "2021-11-10T00:18:30.124478Z",
     "start_time": "2021-11-10T00:18:30.110851Z"
    }
   },
   "outputs": [
    {
     "data": {
      "text/plain": [
       "cust_id                              object\n",
       "balance                             float64\n",
       "balance_frequency                   float64\n",
       "purchases                           float64\n",
       "oneoff_purchases                    float64\n",
       "installments_purchases              float64\n",
       "cash_advance                        float64\n",
       "purchases_frequency                 float64\n",
       "oneoff_purchases_frequency          float64\n",
       "purchases_installments_frequency    float64\n",
       "cash_advance_frequency              float64\n",
       "cash_advance_trx                      int64\n",
       "purchases_trx                         int64\n",
       "credit_limit                        float64\n",
       "payments                            float64\n",
       "minimum_payments                    float64\n",
       "prc_full_payment                    float64\n",
       "tenure                                int64\n",
       "dtype: object"
      ]
     },
     "execution_count": 62,
     "metadata": {},
     "output_type": "execute_result"
    }
   ],
   "source": [
    "data.dtypes"
   ]
  },
  {
   "cell_type": "markdown",
   "id": "23f3cbb4",
   "metadata": {},
   "source": [
    "## Check NA"
   ]
  },
  {
   "cell_type": "code",
   "execution_count": 63,
   "id": "4d7fb92e",
   "metadata": {
    "ExecuteTime": {
     "end_time": "2021-11-10T00:18:30.704469Z",
     "start_time": "2021-11-10T00:18:30.681839Z"
    }
   },
   "outputs": [
    {
     "data": {
      "text/plain": [
       "cust_id                               0\n",
       "balance                               0\n",
       "balance_frequency                     0\n",
       "purchases                             0\n",
       "oneoff_purchases                      0\n",
       "installments_purchases                0\n",
       "cash_advance                          0\n",
       "purchases_frequency                   0\n",
       "oneoff_purchases_frequency            0\n",
       "purchases_installments_frequency      0\n",
       "cash_advance_frequency                0\n",
       "cash_advance_trx                      0\n",
       "purchases_trx                         0\n",
       "credit_limit                          1\n",
       "payments                              0\n",
       "minimum_payments                    313\n",
       "prc_full_payment                      0\n",
       "tenure                                0\n",
       "dtype: int64"
      ]
     },
     "execution_count": 63,
     "metadata": {},
     "output_type": "execute_result"
    }
   ],
   "source": [
    "data.isna().sum()"
   ]
  },
  {
   "cell_type": "markdown",
   "id": "c7c069c0",
   "metadata": {},
   "source": [
    "## Drop NA"
   ]
  },
  {
   "cell_type": "code",
   "execution_count": 64,
   "id": "6275d839",
   "metadata": {
    "ExecuteTime": {
     "end_time": "2021-11-10T00:18:31.295290Z",
     "start_time": "2021-11-10T00:18:31.281578Z"
    }
   },
   "outputs": [],
   "source": [
    "data = data.dropna( subset=['minimum_payments', 'credit_limit'])"
   ]
  },
  {
   "cell_type": "markdown",
   "id": "c11cda00",
   "metadata": {},
   "source": [
    "## Estatística Descritiva"
   ]
  },
  {
   "cell_type": "code",
   "execution_count": 65,
   "id": "cfac8793",
   "metadata": {
    "ExecuteTime": {
     "end_time": "2021-11-10T00:18:31.936816Z",
     "start_time": "2021-11-10T00:18:31.865548Z"
    }
   },
   "outputs": [
    {
     "data": {
      "text/html": [
       "<div>\n",
       "<style scoped>\n",
       "    .dataframe tbody tr th:only-of-type {\n",
       "        vertical-align: middle;\n",
       "    }\n",
       "\n",
       "    .dataframe tbody tr th {\n",
       "        vertical-align: top;\n",
       "    }\n",
       "\n",
       "    .dataframe thead th {\n",
       "        text-align: right;\n",
       "    }\n",
       "</style>\n",
       "<table border=\"1\" class=\"dataframe\">\n",
       "  <thead>\n",
       "    <tr style=\"text-align: right;\">\n",
       "      <th></th>\n",
       "      <th>attributes</th>\n",
       "      <th>min</th>\n",
       "      <th>max</th>\n",
       "      <th>range</th>\n",
       "      <th>mean</th>\n",
       "      <th>median</th>\n",
       "      <th>std</th>\n",
       "      <th>skew</th>\n",
       "      <th>kurtosis</th>\n",
       "    </tr>\n",
       "  </thead>\n",
       "  <tbody>\n",
       "    <tr>\n",
       "      <th>0</th>\n",
       "      <td>balance</td>\n",
       "      <td>0.00</td>\n",
       "      <td>19043.14</td>\n",
       "      <td>19043.14</td>\n",
       "      <td>1601.22</td>\n",
       "      <td>916.86</td>\n",
       "      <td>2095.45</td>\n",
       "      <td>2.37</td>\n",
       "      <td>7.55</td>\n",
       "    </tr>\n",
       "    <tr>\n",
       "      <th>1</th>\n",
       "      <td>balance_frequency</td>\n",
       "      <td>0.00</td>\n",
       "      <td>1.00</td>\n",
       "      <td>1.00</td>\n",
       "      <td>0.90</td>\n",
       "      <td>1.00</td>\n",
       "      <td>0.21</td>\n",
       "      <td>-2.08</td>\n",
       "      <td>3.37</td>\n",
       "    </tr>\n",
       "    <tr>\n",
       "      <th>2</th>\n",
       "      <td>purchases</td>\n",
       "      <td>0.00</td>\n",
       "      <td>49039.57</td>\n",
       "      <td>49039.57</td>\n",
       "      <td>1025.43</td>\n",
       "      <td>375.40</td>\n",
       "      <td>2166.98</td>\n",
       "      <td>8.06</td>\n",
       "      <td>108.68</td>\n",
       "    </tr>\n",
       "    <tr>\n",
       "      <th>3</th>\n",
       "      <td>oneoff_purchases</td>\n",
       "      <td>0.00</td>\n",
       "      <td>40761.25</td>\n",
       "      <td>40761.25</td>\n",
       "      <td>604.90</td>\n",
       "      <td>45.00</td>\n",
       "      <td>1684.21</td>\n",
       "      <td>9.94</td>\n",
       "      <td>160.12</td>\n",
       "    </tr>\n",
       "    <tr>\n",
       "      <th>4</th>\n",
       "      <td>installments_purchases</td>\n",
       "      <td>0.00</td>\n",
       "      <td>22500.00</td>\n",
       "      <td>22500.00</td>\n",
       "      <td>420.84</td>\n",
       "      <td>94.78</td>\n",
       "      <td>917.19</td>\n",
       "      <td>7.22</td>\n",
       "      <td>94.19</td>\n",
       "    </tr>\n",
       "    <tr>\n",
       "      <th>5</th>\n",
       "      <td>cash_advance</td>\n",
       "      <td>0.00</td>\n",
       "      <td>47137.21</td>\n",
       "      <td>47137.21</td>\n",
       "      <td>994.18</td>\n",
       "      <td>0.00</td>\n",
       "      <td>2121.34</td>\n",
       "      <td>5.14</td>\n",
       "      <td>52.14</td>\n",
       "    </tr>\n",
       "    <tr>\n",
       "      <th>6</th>\n",
       "      <td>purchases_frequency</td>\n",
       "      <td>0.00</td>\n",
       "      <td>1.00</td>\n",
       "      <td>1.00</td>\n",
       "      <td>0.50</td>\n",
       "      <td>0.50</td>\n",
       "      <td>0.40</td>\n",
       "      <td>0.03</td>\n",
       "      <td>-1.64</td>\n",
       "    </tr>\n",
       "    <tr>\n",
       "      <th>7</th>\n",
       "      <td>oneoff_purchases_frequency</td>\n",
       "      <td>0.00</td>\n",
       "      <td>1.00</td>\n",
       "      <td>1.00</td>\n",
       "      <td>0.21</td>\n",
       "      <td>0.08</td>\n",
       "      <td>0.30</td>\n",
       "      <td>1.50</td>\n",
       "      <td>1.06</td>\n",
       "    </tr>\n",
       "    <tr>\n",
       "      <th>8</th>\n",
       "      <td>purchases_installments_frequency</td>\n",
       "      <td>0.00</td>\n",
       "      <td>1.00</td>\n",
       "      <td>1.00</td>\n",
       "      <td>0.37</td>\n",
       "      <td>0.17</td>\n",
       "      <td>0.40</td>\n",
       "      <td>0.49</td>\n",
       "      <td>-1.42</td>\n",
       "    </tr>\n",
       "    <tr>\n",
       "      <th>9</th>\n",
       "      <td>cash_advance_frequency</td>\n",
       "      <td>0.00</td>\n",
       "      <td>1.50</td>\n",
       "      <td>1.50</td>\n",
       "      <td>0.14</td>\n",
       "      <td>0.00</td>\n",
       "      <td>0.20</td>\n",
       "      <td>1.80</td>\n",
       "      <td>3.18</td>\n",
       "    </tr>\n",
       "    <tr>\n",
       "      <th>10</th>\n",
       "      <td>cash_advance_trx</td>\n",
       "      <td>0.00</td>\n",
       "      <td>123.00</td>\n",
       "      <td>123.00</td>\n",
       "      <td>3.31</td>\n",
       "      <td>0.00</td>\n",
       "      <td>6.91</td>\n",
       "      <td>5.67</td>\n",
       "      <td>60.43</td>\n",
       "    </tr>\n",
       "    <tr>\n",
       "      <th>11</th>\n",
       "      <td>purchases_trx</td>\n",
       "      <td>0.00</td>\n",
       "      <td>358.00</td>\n",
       "      <td>358.00</td>\n",
       "      <td>15.03</td>\n",
       "      <td>7.00</td>\n",
       "      <td>25.18</td>\n",
       "      <td>4.58</td>\n",
       "      <td>33.95</td>\n",
       "    </tr>\n",
       "    <tr>\n",
       "      <th>12</th>\n",
       "      <td>credit_limit</td>\n",
       "      <td>50.00</td>\n",
       "      <td>30000.00</td>\n",
       "      <td>29950.00</td>\n",
       "      <td>4522.09</td>\n",
       "      <td>3000.00</td>\n",
       "      <td>3659.03</td>\n",
       "      <td>1.51</td>\n",
       "      <td>2.77</td>\n",
       "    </tr>\n",
       "    <tr>\n",
       "      <th>13</th>\n",
       "      <td>payments</td>\n",
       "      <td>0.05</td>\n",
       "      <td>50721.48</td>\n",
       "      <td>50721.43</td>\n",
       "      <td>1784.48</td>\n",
       "      <td>896.68</td>\n",
       "      <td>2909.64</td>\n",
       "      <td>5.87</td>\n",
       "      <td>54.27</td>\n",
       "    </tr>\n",
       "    <tr>\n",
       "      <th>14</th>\n",
       "      <td>minimum_payments</td>\n",
       "      <td>0.02</td>\n",
       "      <td>76406.21</td>\n",
       "      <td>76406.19</td>\n",
       "      <td>864.30</td>\n",
       "      <td>312.45</td>\n",
       "      <td>2372.43</td>\n",
       "      <td>13.62</td>\n",
       "      <td>283.96</td>\n",
       "    </tr>\n",
       "    <tr>\n",
       "      <th>15</th>\n",
       "      <td>prc_full_payment</td>\n",
       "      <td>0.00</td>\n",
       "      <td>1.00</td>\n",
       "      <td>1.00</td>\n",
       "      <td>0.16</td>\n",
       "      <td>0.00</td>\n",
       "      <td>0.30</td>\n",
       "      <td>1.89</td>\n",
       "      <td>2.20</td>\n",
       "    </tr>\n",
       "    <tr>\n",
       "      <th>16</th>\n",
       "      <td>tenure</td>\n",
       "      <td>6.00</td>\n",
       "      <td>12.00</td>\n",
       "      <td>6.00</td>\n",
       "      <td>11.53</td>\n",
       "      <td>12.00</td>\n",
       "      <td>1.31</td>\n",
       "      <td>-3.01</td>\n",
       "      <td>8.16</td>\n",
       "    </tr>\n",
       "  </tbody>\n",
       "</table>\n",
       "</div>"
      ],
      "text/plain": [
       "                          attributes   min      max    range    mean  median     std  skew  kurtosis\n",
       "0                            balance  0.00 19043.14 19043.14 1601.22  916.86 2095.45  2.37      7.55\n",
       "1                  balance_frequency  0.00     1.00     1.00    0.90    1.00    0.21 -2.08      3.37\n",
       "2                          purchases  0.00 49039.57 49039.57 1025.43  375.40 2166.98  8.06    108.68\n",
       "3                   oneoff_purchases  0.00 40761.25 40761.25  604.90   45.00 1684.21  9.94    160.12\n",
       "4             installments_purchases  0.00 22500.00 22500.00  420.84   94.78  917.19  7.22     94.19\n",
       "5                       cash_advance  0.00 47137.21 47137.21  994.18    0.00 2121.34  5.14     52.14\n",
       "6                purchases_frequency  0.00     1.00     1.00    0.50    0.50    0.40  0.03     -1.64\n",
       "7         oneoff_purchases_frequency  0.00     1.00     1.00    0.21    0.08    0.30  1.50      1.06\n",
       "8   purchases_installments_frequency  0.00     1.00     1.00    0.37    0.17    0.40  0.49     -1.42\n",
       "9             cash_advance_frequency  0.00     1.50     1.50    0.14    0.00    0.20  1.80      3.18\n",
       "10                  cash_advance_trx  0.00   123.00   123.00    3.31    0.00    6.91  5.67     60.43\n",
       "11                     purchases_trx  0.00   358.00   358.00   15.03    7.00   25.18  4.58     33.95\n",
       "12                      credit_limit 50.00 30000.00 29950.00 4522.09 3000.00 3659.03  1.51      2.77\n",
       "13                          payments  0.05 50721.48 50721.43 1784.48  896.68 2909.64  5.87     54.27\n",
       "14                  minimum_payments  0.02 76406.21 76406.19  864.30  312.45 2372.43 13.62    283.96\n",
       "15                  prc_full_payment  0.00     1.00     1.00    0.16    0.00    0.30  1.89      2.20\n",
       "16                            tenure  6.00    12.00     6.00   11.53   12.00    1.31 -3.01      8.16"
      ]
     },
     "execution_count": 65,
     "metadata": {},
     "output_type": "execute_result"
    }
   ],
   "source": [
    "pd.set_option('display.float_format', lambda x: '%.2f' % x)\n",
    "num_attributes = data.select_dtypes(include=['int64', 'float64'])\n",
    "\n",
    "#Central Tendecy - média e mediana\n",
    "ct1 = pd.DataFrame( num_attributes.apply( np.mean ) ).T\n",
    "ct2 = pd.DataFrame( num_attributes.apply( np.median ) ).T\n",
    "\n",
    "#Dispersion - desvio, min, max, range, skew, kurtosis\n",
    "d1 = pd.DataFrame( num_attributes.apply( np.std ) ).T\n",
    "d2 = pd.DataFrame( num_attributes.apply( min ) ).T\n",
    "d3 = pd.DataFrame( num_attributes.apply( max ) ).T\n",
    "d4 = pd.DataFrame( num_attributes.apply( lambda x: x.max() - x.min() ) ).T\n",
    "d5 = pd.DataFrame( num_attributes.apply( lambda x: x.skew() ) ).T\n",
    "d6 = pd.DataFrame( num_attributes.apply( lambda x: x.kurtosis() ) ).T\n",
    "\n",
    "#concat\n",
    "m = pd.concat( [d2, d3, d4, ct1, ct2, d1, d5, d6]).T.reset_index()\n",
    "m.columns = ['attributes', 'min','max','range','mean','median','std','skew','kurtosis']\n",
    "m"
   ]
  },
  {
   "cell_type": "markdown",
   "id": "17895236",
   "metadata": {},
   "source": [
    "# DATA FILTERING"
   ]
  },
  {
   "cell_type": "markdown",
   "id": "db100a1a",
   "metadata": {},
   "source": [
    "# FEATURE ENGINEERING "
   ]
  },
  {
   "cell_type": "markdown",
   "id": "35eb1b3b",
   "metadata": {},
   "source": [
    "# EDA "
   ]
  },
  {
   "cell_type": "markdown",
   "id": "f715027c",
   "metadata": {},
   "source": [
    "# DATA PREPARATION "
   ]
  },
  {
   "cell_type": "code",
   "execution_count": null,
   "id": "ef5f5597",
   "metadata": {},
   "outputs": [],
   "source": []
  },
  {
   "cell_type": "markdown",
   "id": "0708bb3d",
   "metadata": {},
   "source": [
    "# FEATURE SELECTION "
   ]
  },
  {
   "cell_type": "code",
   "execution_count": 66,
   "id": "fe640c46",
   "metadata": {
    "ExecuteTime": {
     "end_time": "2021-11-10T00:18:34.593233Z",
     "start_time": "2021-11-10T00:18:34.581588Z"
    }
   },
   "outputs": [],
   "source": [
    "cols_drop = ['cust_id']\n",
    "X = data.drop( columns=cols_drop )"
   ]
  },
  {
   "cell_type": "markdown",
   "id": "c3ccd6d7",
   "metadata": {},
   "source": [
    "# HYPERPARAMETER FINE TUNNING "
   ]
  },
  {
   "cell_type": "markdown",
   "id": "5dadfa12",
   "metadata": {},
   "source": [
    "## K-Means"
   ]
  },
  {
   "cell_type": "code",
   "execution_count": 76,
   "id": "e4f42daa",
   "metadata": {
    "ExecuteTime": {
     "end_time": "2021-11-10T00:33:15.219778Z",
     "start_time": "2021-11-10T00:33:13.741567Z"
    }
   },
   "outputs": [
    {
     "ename": "AttributeError",
     "evalue": "'DataFrame' object has no attribute 'davies_bouldin_score'",
     "output_type": "error",
     "traceback": [
      "\u001b[0;31m---------------------------------------------------------------------------\u001b[0m",
      "\u001b[0;31mAttributeError\u001b[0m                            Traceback (most recent call last)",
      "\u001b[0;32m/tmp/ipykernel_61585/2258571305.py\u001b[0m in \u001b[0;36m<module>\u001b[0;34m\u001b[0m\n\u001b[1;32m     15\u001b[0m     \u001b[0;31m#model performance\u001b[0m\u001b[0;34m\u001b[0m\u001b[0;34m\u001b[0m\u001b[0;34m\u001b[0m\u001b[0m\n\u001b[1;32m     16\u001b[0m     \u001b[0;31m#sil = m.silhouette_score( X, labels)\u001b[0m\u001b[0;34m\u001b[0m\u001b[0;34m\u001b[0m\u001b[0;34m\u001b[0m\u001b[0m\n\u001b[0;32m---> 17\u001b[0;31m     \u001b[0mdav\u001b[0m \u001b[0;34m=\u001b[0m \u001b[0mm\u001b[0m\u001b[0;34m.\u001b[0m\u001b[0mdavies_bouldin_score\u001b[0m\u001b[0;34m(\u001b[0m \u001b[0mX\u001b[0m\u001b[0;34m,\u001b[0m \u001b[0mlabels\u001b[0m\u001b[0;34m)\u001b[0m\u001b[0;34m\u001b[0m\u001b[0;34m\u001b[0m\u001b[0m\n\u001b[0m\u001b[1;32m     18\u001b[0m     \u001b[0msilhouette_list\u001b[0m\u001b[0;34m.\u001b[0m\u001b[0mappend\u001b[0m\u001b[0;34m(\u001b[0m\u001b[0msil\u001b[0m\u001b[0;34m)\u001b[0m\u001b[0;34m\u001b[0m\u001b[0;34m\u001b[0m\u001b[0m\n\u001b[1;32m     19\u001b[0m     \u001b[0mdavies_list\u001b[0m\u001b[0;34m.\u001b[0m\u001b[0mappend\u001b[0m\u001b[0;34m(\u001b[0m\u001b[0mdav\u001b[0m\u001b[0;34m)\u001b[0m\u001b[0;34m\u001b[0m\u001b[0;34m\u001b[0m\u001b[0m\n",
      "\u001b[0;32m~/.local/lib/python3.8/site-packages/pandas/core/generic.py\u001b[0m in \u001b[0;36m__getattr__\u001b[0;34m(self, name)\u001b[0m\n\u001b[1;32m   5476\u001b[0m         ):\n\u001b[1;32m   5477\u001b[0m             \u001b[0;32mreturn\u001b[0m \u001b[0mself\u001b[0m\u001b[0;34m[\u001b[0m\u001b[0mname\u001b[0m\u001b[0;34m]\u001b[0m\u001b[0;34m\u001b[0m\u001b[0;34m\u001b[0m\u001b[0m\n\u001b[0;32m-> 5478\u001b[0;31m         \u001b[0;32mreturn\u001b[0m \u001b[0mobject\u001b[0m\u001b[0;34m.\u001b[0m\u001b[0m__getattribute__\u001b[0m\u001b[0;34m(\u001b[0m\u001b[0mself\u001b[0m\u001b[0;34m,\u001b[0m \u001b[0mname\u001b[0m\u001b[0;34m)\u001b[0m\u001b[0;34m\u001b[0m\u001b[0;34m\u001b[0m\u001b[0m\n\u001b[0m\u001b[1;32m   5479\u001b[0m \u001b[0;34m\u001b[0m\u001b[0m\n\u001b[1;32m   5480\u001b[0m     \u001b[0;32mdef\u001b[0m \u001b[0m__setattr__\u001b[0m\u001b[0;34m(\u001b[0m\u001b[0mself\u001b[0m\u001b[0;34m,\u001b[0m \u001b[0mname\u001b[0m\u001b[0;34m:\u001b[0m \u001b[0mstr\u001b[0m\u001b[0;34m,\u001b[0m \u001b[0mvalue\u001b[0m\u001b[0;34m)\u001b[0m \u001b[0;34m->\u001b[0m \u001b[0;32mNone\u001b[0m\u001b[0;34m:\u001b[0m\u001b[0;34m\u001b[0m\u001b[0;34m\u001b[0m\u001b[0m\n",
      "\u001b[0;31mAttributeError\u001b[0m: 'DataFrame' object has no attribute 'davies_bouldin_score'"
     ]
    }
   ],
   "source": [
    "clusters = [2, 3, 4, 5, 6, 7, 8]\n",
    "\n",
    "silhouette_list = []\n",
    "davies_list = []\n",
    "for k in clusters:\n",
    "    #model definition\n",
    "    kmeans_model = c.KMeans( n_clusters=k )\n",
    "    \n",
    "    #model training\n",
    "    kmeans_model.fit( X )\n",
    "    \n",
    "    #model predict\n",
    "    labels = kmeans_model.predict( X )\n",
    "    \n",
    "    #model performance\n",
    "    sil = m.silhouette_score( X, labels)\n",
    "    dav = m.davies_bouldin_score( X, labels)\n",
    "    silhouette_list.append(sil)\n",
    "    davies_list.append(dav)\n",
    "    "
   ]
  },
  {
   "cell_type": "code",
   "execution_count": null,
   "id": "38a3186e",
   "metadata": {},
   "outputs": [],
   "source": [
    "plt.plot( clusters, silhouette_list, linestyle='--', marker='o', color='b')\n",
    "plt.xlabel( 'K - Number of Clusters' )\n",
    "plt.ylabel( 'SS - Silhouette Score')\n",
    "plt.title( 'Silhouette Score');"
   ]
  },
  {
   "cell_type": "code",
   "execution_count": null,
   "id": "5ebd16b1",
   "metadata": {},
   "outputs": [],
   "source": [
    "plt.plot( clusters, davies_list, linestyle='--', marker='o', color='b')\n",
    "plt.xlabel( 'K - Number of Clusters' )\n",
    "plt.ylabel( 'DB Score')\n",
    "plt.title( 'DB Index');"
   ]
  },
  {
   "cell_type": "markdown",
   "id": "5df3b6ff",
   "metadata": {},
   "source": [
    "# MACHINE LEARNING"
   ]
  },
  {
   "cell_type": "markdown",
   "id": "39b9b0c8",
   "metadata": {},
   "source": [
    "# CLUSTERING ANALYSIS"
   ]
  },
  {
   "cell_type": "markdown",
   "id": "d11b73b5",
   "metadata": {},
   "source": [
    "# EDA - INSIGHT REPORTS"
   ]
  },
  {
   "cell_type": "markdown",
   "id": "96cd6fed",
   "metadata": {},
   "source": [
    "# DEPLOY TO PRODUCTION"
   ]
  },
  {
   "cell_type": "code",
   "execution_count": null,
   "id": "63061fe2",
   "metadata": {},
   "outputs": [],
   "source": []
  }
 ],
 "metadata": {
  "hide_input": false,
  "kernelspec": {
   "display_name": "Python 3 (ipykernel)",
   "language": "python",
   "name": "python3"
  },
  "language_info": {
   "codemirror_mode": {
    "name": "ipython",
    "version": 3
   },
   "file_extension": ".py",
   "mimetype": "text/x-python",
   "name": "python",
   "nbconvert_exporter": "python",
   "pygments_lexer": "ipython3",
   "version": "3.8.10"
  },
  "toc": {
   "base_numbering": 1,
   "nav_menu": {},
   "number_sections": true,
   "sideBar": true,
   "skip_h1_title": false,
   "title_cell": "Table of Contents",
   "title_sidebar": "Contents",
   "toc_cell": false,
   "toc_position": {},
   "toc_section_display": true,
   "toc_window_display": false
  }
 },
 "nbformat": 4,
 "nbformat_minor": 5
}
